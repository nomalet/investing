{
 "cells": [
  {
   "cell_type": "markdown",
   "metadata": {},
   "source": [
    "# Calculate NPV"
   ]
  },
  {
   "cell_type": "markdown",
   "metadata": {},
   "source": [
    "## Setup"
   ]
  },
  {
   "cell_type": "code",
   "execution_count": 66,
   "metadata": {},
   "outputs": [
    {
     "name": "stdout",
     "output_type": "stream",
     "text": [
      "The nb_black extension is already loaded. To reload it, use:\n",
      "  %reload_ext nb_black\n"
     ]
    },
    {
     "data": {
      "application/javascript": "\n            setTimeout(function() {\n                var nbb_cell_id = 66;\n                var nbb_unformatted_code = \"%load_ext nb_black\";\n                var nbb_formatted_code = \"%load_ext nb_black\";\n                var nbb_cells = Jupyter.notebook.get_cells();\n                for (var i = 0; i < nbb_cells.length; ++i) {\n                    if (nbb_cells[i].input_prompt_number == nbb_cell_id) {\n                        if (nbb_cells[i].get_text() == nbb_unformatted_code) {\n                             nbb_cells[i].set_text(nbb_formatted_code);\n                        }\n                        break;\n                    }\n                }\n            }, 500);\n            ",
      "text/plain": [
       "<IPython.core.display.Javascript object>"
      ]
     },
     "metadata": {},
     "output_type": "display_data"
    }
   ],
   "source": [
    "%load_ext nb_black"
   ]
  },
  {
   "cell_type": "code",
   "execution_count": 67,
   "metadata": {},
   "outputs": [
    {
     "name": "stdout",
     "output_type": "stream",
     "text": [
      "The autoreload extension is already loaded. To reload it, use:\n",
      "  %reload_ext autoreload\n"
     ]
    },
    {
     "data": {
      "application/javascript": "\n            setTimeout(function() {\n                var nbb_cell_id = 67;\n                var nbb_unformatted_code = \"%load_ext autoreload\\n%autoreload 2\";\n                var nbb_formatted_code = \"%load_ext autoreload\\n%autoreload 2\";\n                var nbb_cells = Jupyter.notebook.get_cells();\n                for (var i = 0; i < nbb_cells.length; ++i) {\n                    if (nbb_cells[i].input_prompt_number == nbb_cell_id) {\n                        if (nbb_cells[i].get_text() == nbb_unformatted_code) {\n                             nbb_cells[i].set_text(nbb_formatted_code);\n                        }\n                        break;\n                    }\n                }\n            }, 500);\n            ",
      "text/plain": [
       "<IPython.core.display.Javascript object>"
      ]
     },
     "metadata": {},
     "output_type": "display_data"
    }
   ],
   "source": [
    "%load_ext autoreload\n",
    "%autoreload 2"
   ]
  },
  {
   "cell_type": "code",
   "execution_count": 68,
   "metadata": {},
   "outputs": [
    {
     "data": {
      "application/javascript": "\n            setTimeout(function() {\n                var nbb_cell_id = 68;\n                var nbb_unformatted_code = \"# Import libraries\\nimport pandas as pd\\nimport numpy as np\\nfrom investing.config.file_paths import input_data, output_data\\nfrom investing.tools.functions import npv_calc, pv_full_output\";\n                var nbb_formatted_code = \"# Import libraries\\nimport pandas as pd\\nimport numpy as np\\nfrom investing.config.file_paths import input_data, output_data\\nfrom investing.tools.functions import npv_calc, pv_full_output\";\n                var nbb_cells = Jupyter.notebook.get_cells();\n                for (var i = 0; i < nbb_cells.length; ++i) {\n                    if (nbb_cells[i].input_prompt_number == nbb_cell_id) {\n                        if (nbb_cells[i].get_text() == nbb_unformatted_code) {\n                             nbb_cells[i].set_text(nbb_formatted_code);\n                        }\n                        break;\n                    }\n                }\n            }, 500);\n            ",
      "text/plain": [
       "<IPython.core.display.Javascript object>"
      ]
     },
     "metadata": {},
     "output_type": "display_data"
    }
   ],
   "source": [
    "# Import libraries\n",
    "import pandas as pd\n",
    "import numpy as np\n",
    "from investing.config.file_paths import input_data, output_data\n",
    "from investing.tools.functions import npv_calc, pv_full_output"
   ]
  },
  {
   "cell_type": "markdown",
   "metadata": {},
   "source": [
    "## Configure"
   ]
  },
  {
   "cell_type": "code",
   "execution_count": 69,
   "metadata": {},
   "outputs": [
    {
     "data": {
      "application/javascript": "\n            setTimeout(function() {\n                var nbb_cell_id = 69;\n                var nbb_unformatted_code = \"# File names\\nparameters_file = \\\"params_regular.csv\\\"\\nfcf_start_values = 'fcf_start_data.csv'\\nnpv_file = \\\"npv.csv\\\"\";\n                var nbb_formatted_code = \"# File names\\nparameters_file = \\\"params_regular.csv\\\"\\nfcf_start_values = \\\"fcf_start_data.csv\\\"\\nnpv_file = \\\"npv.csv\\\"\";\n                var nbb_cells = Jupyter.notebook.get_cells();\n                for (var i = 0; i < nbb_cells.length; ++i) {\n                    if (nbb_cells[i].input_prompt_number == nbb_cell_id) {\n                        if (nbb_cells[i].get_text() == nbb_unformatted_code) {\n                             nbb_cells[i].set_text(nbb_formatted_code);\n                        }\n                        break;\n                    }\n                }\n            }, 500);\n            ",
      "text/plain": [
       "<IPython.core.display.Javascript object>"
      ]
     },
     "metadata": {},
     "output_type": "display_data"
    }
   ],
   "source": [
    "# File names\n",
    "parameters_file = \"params_regular.csv\"\n",
    "fcf_start_values = 'fcf_start_data.csv'\n",
    "npv_file = \"npv.csv\""
   ]
  },
  {
   "cell_type": "markdown",
   "metadata": {},
   "source": [
    "## Calculate NPV"
   ]
  },
  {
   "cell_type": "code",
   "execution_count": 70,
   "metadata": {},
   "outputs": [
    {
     "data": {
      "application/javascript": "\n            setTimeout(function() {\n                var nbb_cell_id = 70;\n                var nbb_unformatted_code = \"# Load dataframe of all input values\\ndf_params = pd.read_csv(input_data/parameters_file)\\ndf_fcf_start = pd.read_csv(output_data/ fcf_start_values)\";\n                var nbb_formatted_code = \"# Load dataframe of all input values\\ndf_params = pd.read_csv(input_data / parameters_file)\\ndf_fcf_start = pd.read_csv(output_data / fcf_start_values)\";\n                var nbb_cells = Jupyter.notebook.get_cells();\n                for (var i = 0; i < nbb_cells.length; ++i) {\n                    if (nbb_cells[i].input_prompt_number == nbb_cell_id) {\n                        if (nbb_cells[i].get_text() == nbb_unformatted_code) {\n                             nbb_cells[i].set_text(nbb_formatted_code);\n                        }\n                        break;\n                    }\n                }\n            }, 500);\n            ",
      "text/plain": [
       "<IPython.core.display.Javascript object>"
      ]
     },
     "metadata": {},
     "output_type": "display_data"
    }
   ],
   "source": [
    "# Load dataframe of all input values\n",
    "df_params = pd.read_csv(input_data/parameters_file)\n",
    "df_fcf_start = pd.read_csv(output_data/ fcf_start_values)"
   ]
  },
  {
   "cell_type": "code",
   "execution_count": 71,
   "metadata": {},
   "outputs": [
    {
     "data": {
      "application/javascript": "\n            setTimeout(function() {\n                var nbb_cell_id = 71;\n                var nbb_unformatted_code = \"# Build the dataframe\\ndf = pd.merge(df_params, df_fcf_start,'outer','ticker')\";\n                var nbb_formatted_code = \"# Build the dataframe\\ndf = pd.merge(df_params, df_fcf_start, \\\"outer\\\", \\\"ticker\\\")\";\n                var nbb_cells = Jupyter.notebook.get_cells();\n                for (var i = 0; i < nbb_cells.length; ++i) {\n                    if (nbb_cells[i].input_prompt_number == nbb_cell_id) {\n                        if (nbb_cells[i].get_text() == nbb_unformatted_code) {\n                             nbb_cells[i].set_text(nbb_formatted_code);\n                        }\n                        break;\n                    }\n                }\n            }, 500);\n            ",
      "text/plain": [
       "<IPython.core.display.Javascript object>"
      ]
     },
     "metadata": {},
     "output_type": "display_data"
    }
   ],
   "source": [
    "# Build the dataframe\n",
    "df = pd.merge(df_params, df_fcf_start,'outer','ticker')"
   ]
  },
  {
   "cell_type": "code",
   "execution_count": 72,
   "metadata": {},
   "outputs": [
    {
     "data": {
      "application/javascript": "\n            setTimeout(function() {\n                var nbb_cell_id = 72;\n                var nbb_unformatted_code = \"# Set the Discount Rate\\ndf['discount_rate'] = 10\";\n                var nbb_formatted_code = \"# Set the Discount Rate\\ndf[\\\"discount_rate\\\"] = 10\";\n                var nbb_cells = Jupyter.notebook.get_cells();\n                for (var i = 0; i < nbb_cells.length; ++i) {\n                    if (nbb_cells[i].input_prompt_number == nbb_cell_id) {\n                        if (nbb_cells[i].get_text() == nbb_unformatted_code) {\n                             nbb_cells[i].set_text(nbb_formatted_code);\n                        }\n                        break;\n                    }\n                }\n            }, 500);\n            ",
      "text/plain": [
       "<IPython.core.display.Javascript object>"
      ]
     },
     "metadata": {},
     "output_type": "display_data"
    }
   ],
   "source": [
    "# Set the Discount Rate\n",
    "df['discount_rate'] = 10"
   ]
  },
  {
   "cell_type": "code",
   "execution_count": 73,
   "metadata": {},
   "outputs": [
    {
     "data": {
      "text/html": [
       "<div>\n",
       "<style scoped>\n",
       "    .dataframe tbody tr th:only-of-type {\n",
       "        vertical-align: middle;\n",
       "    }\n",
       "\n",
       "    .dataframe tbody tr th {\n",
       "        vertical-align: top;\n",
       "    }\n",
       "\n",
       "    .dataframe thead th {\n",
       "        text-align: right;\n",
       "    }\n",
       "</style>\n",
       "<table border=\"1\" class=\"dataframe\">\n",
       "  <thead>\n",
       "    <tr style=\"text-align: right;\">\n",
       "      <th></th>\n",
       "      <th>ticker</th>\n",
       "      <th>name</th>\n",
       "      <th>type</th>\n",
       "      <th>p10_stage1</th>\n",
       "      <th>p10_stage2</th>\n",
       "      <th>p10_terminal</th>\n",
       "      <th>p50_stage1</th>\n",
       "      <th>p50_stage2</th>\n",
       "      <th>p50_terminal</th>\n",
       "      <th>p90_stage1</th>\n",
       "      <th>p90_stage2</th>\n",
       "      <th>p90_terminal</th>\n",
       "      <th>start_value</th>\n",
       "      <th>discount_rate</th>\n",
       "    </tr>\n",
       "  </thead>\n",
       "  <tbody>\n",
       "    <tr>\n",
       "      <th>0</th>\n",
       "      <td>ACN</td>\n",
       "      <td>Accenture</td>\n",
       "      <td>Regular</td>\n",
       "      <td>10</td>\n",
       "      <td>8</td>\n",
       "      <td>6</td>\n",
       "      <td>8</td>\n",
       "      <td>6</td>\n",
       "      <td>4</td>\n",
       "      <td>6</td>\n",
       "      <td>4</td>\n",
       "      <td>2</td>\n",
       "      <td>13.23</td>\n",
       "      <td>10</td>\n",
       "    </tr>\n",
       "  </tbody>\n",
       "</table>\n",
       "</div>"
      ],
      "text/plain": [
       "  ticker       name     type  p10_stage1  p10_stage2  p10_terminal  \\\n",
       "0    ACN  Accenture  Regular          10           8             6   \n",
       "\n",
       "   p50_stage1  p50_stage2  p50_terminal  p90_stage1  p90_stage2  p90_terminal  \\\n",
       "0           8           6             4           6           4             2   \n",
       "\n",
       "   start_value  discount_rate  \n",
       "0        13.23             10  "
      ]
     },
     "execution_count": 73,
     "metadata": {},
     "output_type": "execute_result"
    },
    {
     "data": {
      "application/javascript": "\n            setTimeout(function() {\n                var nbb_cell_id = 73;\n                var nbb_unformatted_code = \"# Trim dataframe for example\\ndf = df.iloc[[0]]\\ndf\";\n                var nbb_formatted_code = \"# Trim dataframe for example\\ndf = df.iloc[[0]]\\ndf\";\n                var nbb_cells = Jupyter.notebook.get_cells();\n                for (var i = 0; i < nbb_cells.length; ++i) {\n                    if (nbb_cells[i].input_prompt_number == nbb_cell_id) {\n                        if (nbb_cells[i].get_text() == nbb_unformatted_code) {\n                             nbb_cells[i].set_text(nbb_formatted_code);\n                        }\n                        break;\n                    }\n                }\n            }, 500);\n            ",
      "text/plain": [
       "<IPython.core.display.Javascript object>"
      ]
     },
     "metadata": {},
     "output_type": "display_data"
    }
   ],
   "source": [
    "# Trim dataframe for example\n",
    "df = df.iloc[[0]]\n",
    "df"
   ]
  },
  {
   "cell_type": "code",
   "execution_count": 74,
   "metadata": {},
   "outputs": [
    {
     "data": {
      "application/javascript": "\n            setTimeout(function() {\n                var nbb_cell_id = 74;\n                var nbb_unformatted_code = \"# Calculate the NPV\\nfor pvalue in ['p10','p50','p90']:\\n    starting_value = df['start_value']\\n    discount_rate = df['discount_rate']\\n    perpetual_rate = df[f'{pvalue}_terminal']\\n    growth_stage1 = df[f'{pvalue}_stage1']\\n    growth_stage2 = df[f'{pvalue}_stage2']\\n    \\n    df[f'npv_{pvalue}'] = np.vectorize(npv_calc)(starting_value, discount_rate, growth_stage1, growth_stage2, perpetual_rate)\";\n                var nbb_formatted_code = \"# Calculate the NPV\\nfor pvalue in [\\\"p10\\\", \\\"p50\\\", \\\"p90\\\"]:\\n    starting_value = df[\\\"start_value\\\"]\\n    discount_rate = df[\\\"discount_rate\\\"]\\n    perpetual_rate = df[f\\\"{pvalue}_terminal\\\"]\\n    growth_stage1 = df[f\\\"{pvalue}_stage1\\\"]\\n    growth_stage2 = df[f\\\"{pvalue}_stage2\\\"]\\n\\n    df[f\\\"npv_{pvalue}\\\"] = np.vectorize(npv_calc)(\\n        starting_value, discount_rate, growth_stage1, growth_stage2, perpetual_rate\\n    )\";\n                var nbb_cells = Jupyter.notebook.get_cells();\n                for (var i = 0; i < nbb_cells.length; ++i) {\n                    if (nbb_cells[i].input_prompt_number == nbb_cell_id) {\n                        if (nbb_cells[i].get_text() == nbb_unformatted_code) {\n                             nbb_cells[i].set_text(nbb_formatted_code);\n                        }\n                        break;\n                    }\n                }\n            }, 500);\n            ",
      "text/plain": [
       "<IPython.core.display.Javascript object>"
      ]
     },
     "metadata": {},
     "output_type": "display_data"
    }
   ],
   "source": [
    "# Calculate the NPV\n",
    "for pvalue in ['p10','p50','p90']:\n",
    "    starting_value = df['start_value']\n",
    "    discount_rate = df['discount_rate']\n",
    "    perpetual_rate = df[f'{pvalue}_terminal']\n",
    "    growth_stage1 = df[f'{pvalue}_stage1']\n",
    "    growth_stage2 = df[f'{pvalue}_stage2']\n",
    "    \n",
    "    df[f'npv_{pvalue}'] = np.vectorize(npv_calc)(starting_value, discount_rate, growth_stage1, growth_stage2, perpetual_rate)"
   ]
  },
  {
   "cell_type": "code",
   "execution_count": 75,
   "metadata": {},
   "outputs": [
    {
     "data": {
      "application/javascript": "\n            setTimeout(function() {\n                var nbb_cell_id = 75;\n                var nbb_unformatted_code = \"# Calculate the present value forecasts\\npv_forecasts = {}\\ntemp_dict = {}\\nfor index, row in df.iterrows():\\n    ticker = row['ticker']\\n    for pvalue in ['p10','p50','p90']:\\n        starting_value = row['start_value']\\n        discount_rate = row['discount_rate']\\n        perpetual_rate = row[f'{pvalue}_terminal']\\n        growth_stage1 = row[f'{pvalue}_stage1']\\n        growth_stage2 = row[f'{pvalue}_stage2']\\n\\n        # Set the PV forecast to a temporary dictionary\\n        temp = pv_full_output(starting_value, discount_rate, growth_stage1, growth_stage2, perpetual_rate)\\n        # Extract the PV forecast dataframe from the dictionary and set to the temparory dict\\n        temp_dict[pvalue] = temp['full_pv']\\n    # Set temp dict to the ticker\\n    pv_forecasts[ticker] = temp_dict\";\n                var nbb_formatted_code = \"# Calculate the present value forecasts\\npv_forecasts = {}\\ntemp_dict = {}\\nfor index, row in df.iterrows():\\n    ticker = row[\\\"ticker\\\"]\\n    for pvalue in [\\\"p10\\\", \\\"p50\\\", \\\"p90\\\"]:\\n        starting_value = row[\\\"start_value\\\"]\\n        discount_rate = row[\\\"discount_rate\\\"]\\n        perpetual_rate = row[f\\\"{pvalue}_terminal\\\"]\\n        growth_stage1 = row[f\\\"{pvalue}_stage1\\\"]\\n        growth_stage2 = row[f\\\"{pvalue}_stage2\\\"]\\n\\n        # Set the PV forecast to a temporary dictionary\\n        temp = pv_full_output(\\n            starting_value, discount_rate, growth_stage1, growth_stage2, perpetual_rate\\n        )\\n        # Extract the PV forecast dataframe from the dictionary and set to the temparory dict\\n        temp_dict[pvalue] = temp[\\\"full_pv\\\"]\\n    # Set temp dict to the ticker\\n    pv_forecasts[ticker] = temp_dict\";\n                var nbb_cells = Jupyter.notebook.get_cells();\n                for (var i = 0; i < nbb_cells.length; ++i) {\n                    if (nbb_cells[i].input_prompt_number == nbb_cell_id) {\n                        if (nbb_cells[i].get_text() == nbb_unformatted_code) {\n                             nbb_cells[i].set_text(nbb_formatted_code);\n                        }\n                        break;\n                    }\n                }\n            }, 500);\n            ",
      "text/plain": [
       "<IPython.core.display.Javascript object>"
      ]
     },
     "metadata": {},
     "output_type": "display_data"
    }
   ],
   "source": [
    "# Calculate the present value forecasts\n",
    "pv_forecasts = {}\n",
    "temp_dict = {}\n",
    "for index, row in df.iterrows():\n",
    "    ticker = row['ticker']\n",
    "    for pvalue in ['p10','p50','p90']:\n",
    "        starting_value = row['start_value']\n",
    "        discount_rate = row['discount_rate']\n",
    "        perpetual_rate = row[f'{pvalue}_terminal']\n",
    "        growth_stage1 = row[f'{pvalue}_stage1']\n",
    "        growth_stage2 = row[f'{pvalue}_stage2']\n",
    "\n",
    "        # Set the PV forecast to a temporary dictionary\n",
    "        temp = pv_full_output(starting_value, discount_rate, growth_stage1, growth_stage2, perpetual_rate)\n",
    "        # Extract the PV forecast dataframe from the dictionary and set to the temparory dict\n",
    "        temp_dict[pvalue] = temp['full_pv']\n",
    "    # Set temp dict to the ticker\n",
    "    pv_forecasts[ticker] = temp_dict"
   ]
  },
  {
   "cell_type": "code",
   "execution_count": 76,
   "metadata": {},
   "outputs": [
    {
     "data": {
      "text/html": [
       "<div>\n",
       "<style scoped>\n",
       "    .dataframe tbody tr th:only-of-type {\n",
       "        vertical-align: middle;\n",
       "    }\n",
       "\n",
       "    .dataframe tbody tr th {\n",
       "        vertical-align: top;\n",
       "    }\n",
       "\n",
       "    .dataframe thead th {\n",
       "        text-align: right;\n",
       "    }\n",
       "</style>\n",
       "<table border=\"1\" class=\"dataframe\">\n",
       "  <thead>\n",
       "    <tr style=\"text-align: right;\">\n",
       "      <th></th>\n",
       "      <th>years</th>\n",
       "      <th>value</th>\n",
       "      <th>PV</th>\n",
       "    </tr>\n",
       "  </thead>\n",
       "  <tbody>\n",
       "    <tr>\n",
       "      <th>0</th>\n",
       "      <td>1.0</td>\n",
       "      <td>14.288400</td>\n",
       "      <td>12.989455</td>\n",
       "    </tr>\n",
       "    <tr>\n",
       "      <th>1</th>\n",
       "      <td>2.0</td>\n",
       "      <td>15.431472</td>\n",
       "      <td>12.753283</td>\n",
       "    </tr>\n",
       "    <tr>\n",
       "      <th>2</th>\n",
       "      <td>3.0</td>\n",
       "      <td>16.665990</td>\n",
       "      <td>12.521405</td>\n",
       "    </tr>\n",
       "    <tr>\n",
       "      <th>3</th>\n",
       "      <td>4.0</td>\n",
       "      <td>17.999269</td>\n",
       "      <td>12.293743</td>\n",
       "    </tr>\n",
       "    <tr>\n",
       "      <th>4</th>\n",
       "      <td>5.0</td>\n",
       "      <td>19.439210</td>\n",
       "      <td>12.070220</td>\n",
       "    </tr>\n",
       "    <tr>\n",
       "      <th>5</th>\n",
       "      <td>6.0</td>\n",
       "      <td>20.605563</td>\n",
       "      <td>11.631303</td>\n",
       "    </tr>\n",
       "    <tr>\n",
       "      <th>6</th>\n",
       "      <td>7.0</td>\n",
       "      <td>21.841897</td>\n",
       "      <td>11.208347</td>\n",
       "    </tr>\n",
       "    <tr>\n",
       "      <th>7</th>\n",
       "      <td>8.0</td>\n",
       "      <td>23.152411</td>\n",
       "      <td>10.800770</td>\n",
       "    </tr>\n",
       "    <tr>\n",
       "      <th>8</th>\n",
       "      <td>9.0</td>\n",
       "      <td>24.541555</td>\n",
       "      <td>10.408015</td>\n",
       "    </tr>\n",
       "    <tr>\n",
       "      <th>9</th>\n",
       "      <td>10.0</td>\n",
       "      <td>26.014049</td>\n",
       "      <td>10.029542</td>\n",
       "    </tr>\n",
       "    <tr>\n",
       "      <th>11</th>\n",
       "      <td>10.0</td>\n",
       "      <td>450.910176</td>\n",
       "      <td>173.845393</td>\n",
       "    </tr>\n",
       "  </tbody>\n",
       "</table>\n",
       "</div>"
      ],
      "text/plain": [
       "    years       value          PV\n",
       "0     1.0   14.288400   12.989455\n",
       "1     2.0   15.431472   12.753283\n",
       "2     3.0   16.665990   12.521405\n",
       "3     4.0   17.999269   12.293743\n",
       "4     5.0   19.439210   12.070220\n",
       "5     6.0   20.605563   11.631303\n",
       "6     7.0   21.841897   11.208347\n",
       "7     8.0   23.152411   10.800770\n",
       "8     9.0   24.541555   10.408015\n",
       "9    10.0   26.014049   10.029542\n",
       "11   10.0  450.910176  173.845393"
      ]
     },
     "execution_count": 76,
     "metadata": {},
     "output_type": "execute_result"
    },
    {
     "data": {
      "application/javascript": "\n            setTimeout(function() {\n                var nbb_cell_id = 76;\n                var nbb_unformatted_code = \"pv_forecasts['ACN']['p50']\";\n                var nbb_formatted_code = \"pv_forecasts[\\\"ACN\\\"][\\\"p50\\\"]\";\n                var nbb_cells = Jupyter.notebook.get_cells();\n                for (var i = 0; i < nbb_cells.length; ++i) {\n                    if (nbb_cells[i].input_prompt_number == nbb_cell_id) {\n                        if (nbb_cells[i].get_text() == nbb_unformatted_code) {\n                             nbb_cells[i].set_text(nbb_formatted_code);\n                        }\n                        break;\n                    }\n                }\n            }, 500);\n            ",
      "text/plain": [
       "<IPython.core.display.Javascript object>"
      ]
     },
     "metadata": {},
     "output_type": "display_data"
    }
   ],
   "source": [
    "pv_forecasts['ACN']['p50']"
   ]
  },
  {
   "cell_type": "code",
   "execution_count": 77,
   "metadata": {},
   "outputs": [
    {
     "data": {
      "application/javascript": "\n            setTimeout(function() {\n                var nbb_cell_id = 77;\n                var nbb_unformatted_code = \"# Calculate Risked NPV\\ndf['risked_npv'] = 0.3 * df['npv_p10'] + 0.4 * df['npv_p50'] + 0.3 * df['npv_p90']\";\n                var nbb_formatted_code = \"# Calculate Risked NPV\\ndf[\\\"risked_npv\\\"] = 0.3 * df[\\\"npv_p10\\\"] + 0.4 * df[\\\"npv_p50\\\"] + 0.3 * df[\\\"npv_p90\\\"]\";\n                var nbb_cells = Jupyter.notebook.get_cells();\n                for (var i = 0; i < nbb_cells.length; ++i) {\n                    if (nbb_cells[i].input_prompt_number == nbb_cell_id) {\n                        if (nbb_cells[i].get_text() == nbb_unformatted_code) {\n                             nbb_cells[i].set_text(nbb_formatted_code);\n                        }\n                        break;\n                    }\n                }\n            }, 500);\n            ",
      "text/plain": [
       "<IPython.core.display.Javascript object>"
      ]
     },
     "metadata": {},
     "output_type": "display_data"
    }
   ],
   "source": [
    "# Calculate Risked NPV\n",
    "df['risked_npv'] = 0.3 * df['npv_p10'] + 0.4 * df['npv_p50'] + 0.3 * df['npv_p90']"
   ]
  },
  {
   "cell_type": "markdown",
   "metadata": {},
   "source": [
    "## Export Data"
   ]
  },
  {
   "cell_type": "code",
   "execution_count": 78,
   "metadata": {},
   "outputs": [
    {
     "data": {
      "application/javascript": "\n            setTimeout(function() {\n                var nbb_cell_id = 78;\n                var nbb_unformatted_code = \"df.to_csv(output_data/npv_file)\";\n                var nbb_formatted_code = \"df.to_csv(output_data / npv_file)\";\n                var nbb_cells = Jupyter.notebook.get_cells();\n                for (var i = 0; i < nbb_cells.length; ++i) {\n                    if (nbb_cells[i].input_prompt_number == nbb_cell_id) {\n                        if (nbb_cells[i].get_text() == nbb_unformatted_code) {\n                             nbb_cells[i].set_text(nbb_formatted_code);\n                        }\n                        break;\n                    }\n                }\n            }, 500);\n            ",
      "text/plain": [
       "<IPython.core.display.Javascript object>"
      ]
     },
     "metadata": {},
     "output_type": "display_data"
    }
   ],
   "source": [
    "df.to_csv(output_data/npv_file)"
   ]
  }
 ],
 "metadata": {
  "kernelspec": {
   "display_name": "Python 3",
   "language": "python",
   "name": "python3"
  },
  "language_info": {
   "codemirror_mode": {
    "name": "ipython",
    "version": 3
   },
   "file_extension": ".py",
   "mimetype": "text/x-python",
   "name": "python",
   "nbconvert_exporter": "python",
   "pygments_lexer": "ipython3",
   "version": "3.7.9"
  },
  "toc": {
   "base_numbering": 1,
   "nav_menu": {},
   "number_sections": true,
   "sideBar": true,
   "skip_h1_title": true,
   "title_cell": "Table of Contents",
   "title_sidebar": "Contents",
   "toc_cell": false,
   "toc_position": {},
   "toc_section_display": true,
   "toc_window_display": false
  }
 },
 "nbformat": 4,
 "nbformat_minor": 4
}
