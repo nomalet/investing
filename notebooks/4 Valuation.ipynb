{
 "cells": [
  {
   "cell_type": "markdown",
   "metadata": {},
   "source": [
    "# Unify NPV Data"
   ]
  },
  {
   "cell_type": "markdown",
   "metadata": {},
   "source": [
    "## Setup"
   ]
  },
  {
   "cell_type": "code",
   "execution_count": 31,
   "metadata": {},
   "outputs": [
    {
     "name": "stdout",
     "output_type": "stream",
     "text": [
      "The nb_black extension is already loaded. To reload it, use:\n",
      "  %reload_ext nb_black\n"
     ]
    },
    {
     "data": {
      "application/javascript": "\n            setTimeout(function() {\n                var nbb_cell_id = 31;\n                var nbb_unformatted_code = \"%load_ext nb_black\";\n                var nbb_formatted_code = \"%load_ext nb_black\";\n                var nbb_cells = Jupyter.notebook.get_cells();\n                for (var i = 0; i < nbb_cells.length; ++i) {\n                    if (nbb_cells[i].input_prompt_number == nbb_cell_id) {\n                        if (nbb_cells[i].get_text() == nbb_unformatted_code) {\n                             nbb_cells[i].set_text(nbb_formatted_code);\n                        }\n                        break;\n                    }\n                }\n            }, 500);\n            ",
      "text/plain": [
       "<IPython.core.display.Javascript object>"
      ]
     },
     "metadata": {},
     "output_type": "display_data"
    }
   ],
   "source": [
    "%load_ext nb_black"
   ]
  },
  {
   "cell_type": "code",
   "execution_count": 32,
   "metadata": {},
   "outputs": [
    {
     "data": {
      "application/javascript": "\n            setTimeout(function() {\n                var nbb_cell_id = 32;\n                var nbb_unformatted_code = \"# Import libraries\\nimport pandas as pd\\nfrom investing.config.file_paths import output_data, dashboard\";\n                var nbb_formatted_code = \"# Import libraries\\nimport pandas as pd\\nfrom investing.config.file_paths import output_data, dashboard\";\n                var nbb_cells = Jupyter.notebook.get_cells();\n                for (var i = 0; i < nbb_cells.length; ++i) {\n                    if (nbb_cells[i].input_prompt_number == nbb_cell_id) {\n                        if (nbb_cells[i].get_text() == nbb_unformatted_code) {\n                             nbb_cells[i].set_text(nbb_formatted_code);\n                        }\n                        break;\n                    }\n                }\n            }, 500);\n            ",
      "text/plain": [
       "<IPython.core.display.Javascript object>"
      ]
     },
     "metadata": {},
     "output_type": "display_data"
    }
   ],
   "source": [
    "# Import libraries\n",
    "import pandas as pd\n",
    "from investing.config.file_paths import output_data, dashboard\n"
   ]
  },
  {
   "cell_type": "markdown",
   "metadata": {},
   "source": [
    "## Configure"
   ]
  },
  {
   "cell_type": "code",
   "execution_count": 33,
   "metadata": {},
   "outputs": [
    {
     "data": {
      "application/javascript": "\n            setTimeout(function() {\n                var nbb_cell_id = 33;\n                var nbb_unformatted_code = \"# File names\\ninput_file_fcf = \\\"npv_fcf.csv\\\"\\ninput_file_div = \\\"npv_dividends.csv\\\"\\ninput_file_insurance = \\\"npv_insurance.csv\\\"\\ninput_file_price = \\\"prices.csv\\\"\\noutput_file = \\\"dashboard_raw.csv\\\"\";\n                var nbb_formatted_code = \"# File names\\ninput_file_fcf = \\\"npv_fcf.csv\\\"\\ninput_file_div = \\\"npv_dividends.csv\\\"\\ninput_file_insurance = \\\"npv_insurance.csv\\\"\\ninput_file_price = \\\"prices.csv\\\"\\noutput_file = \\\"dashboard_raw.csv\\\"\";\n                var nbb_cells = Jupyter.notebook.get_cells();\n                for (var i = 0; i < nbb_cells.length; ++i) {\n                    if (nbb_cells[i].input_prompt_number == nbb_cell_id) {\n                        if (nbb_cells[i].get_text() == nbb_unformatted_code) {\n                             nbb_cells[i].set_text(nbb_formatted_code);\n                        }\n                        break;\n                    }\n                }\n            }, 500);\n            ",
      "text/plain": [
       "<IPython.core.display.Javascript object>"
      ]
     },
     "metadata": {},
     "output_type": "display_data"
    }
   ],
   "source": [
    "# File names\n",
    "input_file_fcf = \"npv_fcf.csv\"\n",
    "input_file_div = \"npv_dividends.csv\"\n",
    "input_file_insurance = \"npv_insurance.csv\"\n",
    "input_file_price = \"prices.csv\"\n",
    "output_file = \"dashboard_raw.csv\""
   ]
  },
  {
   "cell_type": "markdown",
   "metadata": {},
   "source": [
    "## Load Data"
   ]
  },
  {
   "cell_type": "code",
   "execution_count": 34,
   "metadata": {},
   "outputs": [
    {
     "data": {
      "application/javascript": "\n            setTimeout(function() {\n                var nbb_cell_id = 34;\n                var nbb_unformatted_code = \"# Open the files\\ndf_fcf = pd.read_csv(output_data / input_file_fcf)\\ndf_div = pd.read_csv(output_data / input_file_div)\\ndf_ins = pd.read_csv(output_data / input_file_insurance)\\ndf_price = pd.read_csv(output_data / input_file_price)\";\n                var nbb_formatted_code = \"# Open the files\\ndf_fcf = pd.read_csv(output_data / input_file_fcf)\\ndf_div = pd.read_csv(output_data / input_file_div)\\ndf_ins = pd.read_csv(output_data / input_file_insurance)\\ndf_price = pd.read_csv(output_data / input_file_price)\";\n                var nbb_cells = Jupyter.notebook.get_cells();\n                for (var i = 0; i < nbb_cells.length; ++i) {\n                    if (nbb_cells[i].input_prompt_number == nbb_cell_id) {\n                        if (nbb_cells[i].get_text() == nbb_unformatted_code) {\n                             nbb_cells[i].set_text(nbb_formatted_code);\n                        }\n                        break;\n                    }\n                }\n            }, 500);\n            ",
      "text/plain": [
       "<IPython.core.display.Javascript object>"
      ]
     },
     "metadata": {},
     "output_type": "display_data"
    }
   ],
   "source": [
    "# Open the files\n",
    "df_fcf = pd.read_csv(output_data / input_file_fcf)\n",
    "df_div = pd.read_csv(output_data / input_file_div)\n",
    "df_ins = pd.read_csv(output_data / input_file_insurance)\n",
    "df_price = pd.read_csv(output_data / input_file_price)"
   ]
  },
  {
   "cell_type": "code",
   "execution_count": 35,
   "metadata": {},
   "outputs": [
    {
     "data": {
      "text/html": [
       "<div>\n",
       "<style scoped>\n",
       "    .dataframe tbody tr th:only-of-type {\n",
       "        vertical-align: middle;\n",
       "    }\n",
       "\n",
       "    .dataframe tbody tr th {\n",
       "        vertical-align: top;\n",
       "    }\n",
       "\n",
       "    .dataframe thead th {\n",
       "        text-align: right;\n",
       "    }\n",
       "</style>\n",
       "<table border=\"1\" class=\"dataframe\">\n",
       "  <thead>\n",
       "    <tr style=\"text-align: right;\">\n",
       "      <th></th>\n",
       "      <th>ticker</th>\n",
       "      <th>name</th>\n",
       "      <th>type</th>\n",
       "      <th>p10_stage1</th>\n",
       "      <th>p10_stage2</th>\n",
       "      <th>p50_stage1</th>\n",
       "      <th>p50_stage2</th>\n",
       "      <th>p90_stage1</th>\n",
       "      <th>p90_stage2</th>\n",
       "      <th>p10_terminal</th>\n",
       "      <th>p50_terminal</th>\n",
       "      <th>p90_terminal</th>\n",
       "      <th>payout_ratio</th>\n",
       "      <th>start_value</th>\n",
       "      <th>discount_rate</th>\n",
       "      <th>npv_p10</th>\n",
       "      <th>npv_p50</th>\n",
       "      <th>npv_p90</th>\n",
       "      <th>risked_npv</th>\n",
       "    </tr>\n",
       "  </thead>\n",
       "  <tbody>\n",
       "    <tr>\n",
       "      <th>0</th>\n",
       "      <td>AAPL</td>\n",
       "      <td>Apple</td>\n",
       "      <td>CashFlow</td>\n",
       "      <td>15</td>\n",
       "      <td>10</td>\n",
       "      <td>5</td>\n",
       "      <td>14</td>\n",
       "      <td>9</td>\n",
       "      <td>4</td>\n",
       "      <td>6</td>\n",
       "      <td>4</td>\n",
       "      <td>2</td>\n",
       "      <td>22</td>\n",
       "      <td>5.57</td>\n",
       "      <td>10</td>\n",
       "      <td>199.009954</td>\n",
       "      <td>102.222515</td>\n",
       "      <td>62.179629</td>\n",
       "      <td>119.245881</td>\n",
       "    </tr>\n",
       "    <tr>\n",
       "      <th>1</th>\n",
       "      <td>ACN</td>\n",
       "      <td>Accenture</td>\n",
       "      <td>CashFlow</td>\n",
       "      <td>10</td>\n",
       "      <td>7</td>\n",
       "      <td>4</td>\n",
       "      <td>9</td>\n",
       "      <td>6</td>\n",
       "      <td>3</td>\n",
       "      <td>6</td>\n",
       "      <td>4</td>\n",
       "      <td>2</td>\n",
       "      <td>30</td>\n",
       "      <td>13.23</td>\n",
       "      <td>10</td>\n",
       "      <td>343.448333</td>\n",
       "      <td>196.918431</td>\n",
       "      <td>132.271153</td>\n",
       "      <td>221.483218</td>\n",
       "    </tr>\n",
       "    <tr>\n",
       "      <th>2</th>\n",
       "      <td>AMZN</td>\n",
       "      <td>Amazon.com</td>\n",
       "      <td>CashFlow</td>\n",
       "      <td>25</td>\n",
       "      <td>15</td>\n",
       "      <td>5</td>\n",
       "      <td>23</td>\n",
       "      <td>13</td>\n",
       "      <td>3</td>\n",
       "      <td>6</td>\n",
       "      <td>4</td>\n",
       "      <td>2</td>\n",
       "      <td>0</td>\n",
       "      <td>30.00</td>\n",
       "      <td>10</td>\n",
       "      <td>1881.393087</td>\n",
       "      <td>720.358267</td>\n",
       "      <td>314.979964</td>\n",
       "      <td>947.055222</td>\n",
       "    </tr>\n",
       "    <tr>\n",
       "      <th>3</th>\n",
       "      <td>BABA</td>\n",
       "      <td>Alibaba</td>\n",
       "      <td>CashFlow</td>\n",
       "      <td>25</td>\n",
       "      <td>15</td>\n",
       "      <td>5</td>\n",
       "      <td>23</td>\n",
       "      <td>13</td>\n",
       "      <td>3</td>\n",
       "      <td>6</td>\n",
       "      <td>4</td>\n",
       "      <td>2</td>\n",
       "      <td>0</td>\n",
       "      <td>10.67</td>\n",
       "      <td>10</td>\n",
       "      <td>669.148808</td>\n",
       "      <td>256.207424</td>\n",
       "      <td>112.027874</td>\n",
       "      <td>336.835974</td>\n",
       "    </tr>\n",
       "    <tr>\n",
       "      <th>4</th>\n",
       "      <td>COST</td>\n",
       "      <td>Costco</td>\n",
       "      <td>CashFlow</td>\n",
       "      <td>10</td>\n",
       "      <td>7</td>\n",
       "      <td>4</td>\n",
       "      <td>9</td>\n",
       "      <td>6</td>\n",
       "      <td>3</td>\n",
       "      <td>6</td>\n",
       "      <td>4</td>\n",
       "      <td>2</td>\n",
       "      <td>30</td>\n",
       "      <td>12.12</td>\n",
       "      <td>10</td>\n",
       "      <td>314.632940</td>\n",
       "      <td>180.396930</td>\n",
       "      <td>121.173574</td>\n",
       "      <td>202.900726</td>\n",
       "    </tr>\n",
       "  </tbody>\n",
       "</table>\n",
       "</div>"
      ],
      "text/plain": [
       "  ticker        name      type  p10_stage1  p10_stage2  p50_stage1  \\\n",
       "0   AAPL       Apple  CashFlow          15          10           5   \n",
       "1    ACN   Accenture  CashFlow          10           7           4   \n",
       "2   AMZN  Amazon.com  CashFlow          25          15           5   \n",
       "3   BABA     Alibaba  CashFlow          25          15           5   \n",
       "4   COST      Costco  CashFlow          10           7           4   \n",
       "\n",
       "   p50_stage2  p90_stage1  p90_stage2  p10_terminal  p50_terminal  \\\n",
       "0          14           9           4             6             4   \n",
       "1           9           6           3             6             4   \n",
       "2          23          13           3             6             4   \n",
       "3          23          13           3             6             4   \n",
       "4           9           6           3             6             4   \n",
       "\n",
       "   p90_terminal  payout_ratio  start_value  discount_rate      npv_p10  \\\n",
       "0             2            22         5.57             10   199.009954   \n",
       "1             2            30        13.23             10   343.448333   \n",
       "2             2             0        30.00             10  1881.393087   \n",
       "3             2             0        10.67             10   669.148808   \n",
       "4             2            30        12.12             10   314.632940   \n",
       "\n",
       "      npv_p50     npv_p90  risked_npv  \n",
       "0  102.222515   62.179629  119.245881  \n",
       "1  196.918431  132.271153  221.483218  \n",
       "2  720.358267  314.979964  947.055222  \n",
       "3  256.207424  112.027874  336.835974  \n",
       "4  180.396930  121.173574  202.900726  "
      ]
     },
     "execution_count": 35,
     "metadata": {},
     "output_type": "execute_result"
    },
    {
     "data": {
      "application/javascript": "\n            setTimeout(function() {\n                var nbb_cell_id = 35;\n                var nbb_unformatted_code = \"# Display data\\ndf_fcf.head()\";\n                var nbb_formatted_code = \"# Display data\\ndf_fcf.head()\";\n                var nbb_cells = Jupyter.notebook.get_cells();\n                for (var i = 0; i < nbb_cells.length; ++i) {\n                    if (nbb_cells[i].input_prompt_number == nbb_cell_id) {\n                        if (nbb_cells[i].get_text() == nbb_unformatted_code) {\n                             nbb_cells[i].set_text(nbb_formatted_code);\n                        }\n                        break;\n                    }\n                }\n            }, 500);\n            ",
      "text/plain": [
       "<IPython.core.display.Javascript object>"
      ]
     },
     "metadata": {},
     "output_type": "display_data"
    }
   ],
   "source": [
    "# Display data\n",
    "df_fcf.head()"
   ]
  },
  {
   "cell_type": "code",
   "execution_count": 36,
   "metadata": {},
   "outputs": [
    {
     "data": {
      "text/html": [
       "<div>\n",
       "<style scoped>\n",
       "    .dataframe tbody tr th:only-of-type {\n",
       "        vertical-align: middle;\n",
       "    }\n",
       "\n",
       "    .dataframe tbody tr th {\n",
       "        vertical-align: top;\n",
       "    }\n",
       "\n",
       "    .dataframe thead th {\n",
       "        text-align: right;\n",
       "    }\n",
       "</style>\n",
       "<table border=\"1\" class=\"dataframe\">\n",
       "  <thead>\n",
       "    <tr style=\"text-align: right;\">\n",
       "      <th></th>\n",
       "      <th>ticker</th>\n",
       "      <th>name</th>\n",
       "      <th>type</th>\n",
       "      <th>p10_stage1</th>\n",
       "      <th>p10_stage2</th>\n",
       "      <th>p50_stage1</th>\n",
       "      <th>p50_stage2</th>\n",
       "      <th>p90_stage1</th>\n",
       "      <th>p90_stage2</th>\n",
       "      <th>p10_terminal</th>\n",
       "      <th>p50_terminal</th>\n",
       "      <th>p90_terminal</th>\n",
       "      <th>payout_ratio</th>\n",
       "      <th>start_value</th>\n",
       "      <th>discount_rate</th>\n",
       "      <th>npv_p10</th>\n",
       "      <th>npv_p50</th>\n",
       "      <th>npv_p90</th>\n",
       "      <th>risked_npv</th>\n",
       "    </tr>\n",
       "  </thead>\n",
       "  <tbody>\n",
       "    <tr>\n",
       "      <th>0</th>\n",
       "      <td>AAL.L</td>\n",
       "      <td>AngloAmerican</td>\n",
       "      <td>Dividend</td>\n",
       "      <td>5</td>\n",
       "      <td>5</td>\n",
       "      <td>3</td>\n",
       "      <td>3</td>\n",
       "      <td>0</td>\n",
       "      <td>0</td>\n",
       "      <td>6</td>\n",
       "      <td>4</td>\n",
       "      <td>2</td>\n",
       "      <td>100</td>\n",
       "      <td>2.89</td>\n",
       "      <td>10</td>\n",
       "      <td>70.672209</td>\n",
       "      <td>46.446096</td>\n",
       "      <td>31.964105</td>\n",
       "      <td>49.369333</td>\n",
       "    </tr>\n",
       "    <tr>\n",
       "      <th>1</th>\n",
       "      <td>ALA.TO</td>\n",
       "      <td>AltaGas</td>\n",
       "      <td>Dividend</td>\n",
       "      <td>5</td>\n",
       "      <td>6</td>\n",
       "      <td>0</td>\n",
       "      <td>3</td>\n",
       "      <td>-3</td>\n",
       "      <td>0</td>\n",
       "      <td>6</td>\n",
       "      <td>4</td>\n",
       "      <td>2</td>\n",
       "      <td>100</td>\n",
       "      <td>0.76</td>\n",
       "      <td>10</td>\n",
       "      <td>19.272526</td>\n",
       "      <td>10.714316</td>\n",
       "      <td>7.391403</td>\n",
       "      <td>12.284905</td>\n",
       "    </tr>\n",
       "    <tr>\n",
       "      <th>2</th>\n",
       "      <td>AQN</td>\n",
       "      <td>Algonquin</td>\n",
       "      <td>Dividend</td>\n",
       "      <td>9</td>\n",
       "      <td>8</td>\n",
       "      <td>7</td>\n",
       "      <td>6</td>\n",
       "      <td>5</td>\n",
       "      <td>4</td>\n",
       "      <td>6</td>\n",
       "      <td>4</td>\n",
       "      <td>2</td>\n",
       "      <td>100</td>\n",
       "      <td>0.61</td>\n",
       "      <td>10</td>\n",
       "      <td>19.816191</td>\n",
       "      <td>12.840686</td>\n",
       "      <td>9.363731</td>\n",
       "      <td>13.890251</td>\n",
       "    </tr>\n",
       "    <tr>\n",
       "      <th>3</th>\n",
       "      <td>AY</td>\n",
       "      <td>Atlantica</td>\n",
       "      <td>Dividend</td>\n",
       "      <td>4</td>\n",
       "      <td>3</td>\n",
       "      <td>2</td>\n",
       "      <td>1</td>\n",
       "      <td>0</td>\n",
       "      <td>-1</td>\n",
       "      <td>6</td>\n",
       "      <td>4</td>\n",
       "      <td>2</td>\n",
       "      <td>100</td>\n",
       "      <td>1.67</td>\n",
       "      <td>10</td>\n",
       "      <td>36.345314</td>\n",
       "      <td>24.109209</td>\n",
       "      <td>17.959193</td>\n",
       "      <td>25.935036</td>\n",
       "    </tr>\n",
       "    <tr>\n",
       "      <th>4</th>\n",
       "      <td>BEPC</td>\n",
       "      <td>Brookfield Renewable</td>\n",
       "      <td>Dividend</td>\n",
       "      <td>6</td>\n",
       "      <td>5</td>\n",
       "      <td>4</td>\n",
       "      <td>3</td>\n",
       "      <td>2</td>\n",
       "      <td>1</td>\n",
       "      <td>6</td>\n",
       "      <td>4</td>\n",
       "      <td>2</td>\n",
       "      <td>100</td>\n",
       "      <td>1.23</td>\n",
       "      <td>10</td>\n",
       "      <td>31.428422</td>\n",
       "      <td>20.638145</td>\n",
       "      <td>15.234952</td>\n",
       "      <td>22.254270</td>\n",
       "    </tr>\n",
       "  </tbody>\n",
       "</table>\n",
       "</div>"
      ],
      "text/plain": [
       "   ticker                  name      type  p10_stage1  p10_stage2  p50_stage1  \\\n",
       "0   AAL.L         AngloAmerican  Dividend           5           5           3   \n",
       "1  ALA.TO               AltaGas  Dividend           5           6           0   \n",
       "2     AQN             Algonquin  Dividend           9           8           7   \n",
       "3      AY             Atlantica  Dividend           4           3           2   \n",
       "4    BEPC  Brookfield Renewable  Dividend           6           5           4   \n",
       "\n",
       "   p50_stage2  p90_stage1  p90_stage2  p10_terminal  p50_terminal  \\\n",
       "0           3           0           0             6             4   \n",
       "1           3          -3           0             6             4   \n",
       "2           6           5           4             6             4   \n",
       "3           1           0          -1             6             4   \n",
       "4           3           2           1             6             4   \n",
       "\n",
       "   p90_terminal  payout_ratio  start_value  discount_rate    npv_p10  \\\n",
       "0             2           100         2.89             10  70.672209   \n",
       "1             2           100         0.76             10  19.272526   \n",
       "2             2           100         0.61             10  19.816191   \n",
       "3             2           100         1.67             10  36.345314   \n",
       "4             2           100         1.23             10  31.428422   \n",
       "\n",
       "     npv_p50    npv_p90  risked_npv  \n",
       "0  46.446096  31.964105   49.369333  \n",
       "1  10.714316   7.391403   12.284905  \n",
       "2  12.840686   9.363731   13.890251  \n",
       "3  24.109209  17.959193   25.935036  \n",
       "4  20.638145  15.234952   22.254270  "
      ]
     },
     "execution_count": 36,
     "metadata": {},
     "output_type": "execute_result"
    },
    {
     "data": {
      "application/javascript": "\n            setTimeout(function() {\n                var nbb_cell_id = 36;\n                var nbb_unformatted_code = \"# Display data\\ndf_div.head()\";\n                var nbb_formatted_code = \"# Display data\\ndf_div.head()\";\n                var nbb_cells = Jupyter.notebook.get_cells();\n                for (var i = 0; i < nbb_cells.length; ++i) {\n                    if (nbb_cells[i].input_prompt_number == nbb_cell_id) {\n                        if (nbb_cells[i].get_text() == nbb_unformatted_code) {\n                             nbb_cells[i].set_text(nbb_formatted_code);\n                        }\n                        break;\n                    }\n                }\n            }, 500);\n            ",
      "text/plain": [
       "<IPython.core.display.Javascript object>"
      ]
     },
     "metadata": {},
     "output_type": "display_data"
    }
   ],
   "source": [
    "# Display data\n",
    "df_div.head()"
   ]
  },
  {
   "cell_type": "code",
   "execution_count": 37,
   "metadata": {},
   "outputs": [
    {
     "data": {
      "text/html": [
       "<div>\n",
       "<style scoped>\n",
       "    .dataframe tbody tr th:only-of-type {\n",
       "        vertical-align: middle;\n",
       "    }\n",
       "\n",
       "    .dataframe tbody tr th {\n",
       "        vertical-align: top;\n",
       "    }\n",
       "\n",
       "    .dataframe thead th {\n",
       "        text-align: right;\n",
       "    }\n",
       "</style>\n",
       "<table border=\"1\" class=\"dataframe\">\n",
       "  <thead>\n",
       "    <tr style=\"text-align: right;\">\n",
       "      <th></th>\n",
       "      <th>ticker</th>\n",
       "      <th>name</th>\n",
       "      <th>type</th>\n",
       "      <th>currency</th>\n",
       "      <th>p10_return_on_equity</th>\n",
       "      <th>p50_return_on_equity</th>\n",
       "      <th>p90_return_on_equity</th>\n",
       "      <th>p10_terminal</th>\n",
       "      <th>p50_terminal</th>\n",
       "      <th>p90_terminal</th>\n",
       "      <th>start_value</th>\n",
       "      <th>discount_rate</th>\n",
       "      <th>npv_p10</th>\n",
       "      <th>npv_p50</th>\n",
       "      <th>npv_p90</th>\n",
       "      <th>risked_npv</th>\n",
       "    </tr>\n",
       "  </thead>\n",
       "  <tbody>\n",
       "    <tr>\n",
       "      <th>0</th>\n",
       "      <td>BRK-B</td>\n",
       "      <td>Berkshire Hathaway</td>\n",
       "      <td>Insurance</td>\n",
       "      <td>USD</td>\n",
       "      <td>12.90</td>\n",
       "      <td>9.25</td>\n",
       "      <td>5.60</td>\n",
       "      <td>6</td>\n",
       "      <td>4</td>\n",
       "      <td>2</td>\n",
       "      <td>316350.56</td>\n",
       "      <td>10</td>\n",
       "      <td>545704.71600</td>\n",
       "      <td>276806.740000</td>\n",
       "      <td>142357.75200</td>\n",
       "      <td>317141.436400</td>\n",
       "    </tr>\n",
       "    <tr>\n",
       "      <th>1</th>\n",
       "      <td>MFC</td>\n",
       "      <td>Manulife</td>\n",
       "      <td>Insurance</td>\n",
       "      <td>USD</td>\n",
       "      <td>14.50</td>\n",
       "      <td>10.80</td>\n",
       "      <td>1.44</td>\n",
       "      <td>6</td>\n",
       "      <td>4</td>\n",
       "      <td>2</td>\n",
       "      <td>21.97</td>\n",
       "      <td>10</td>\n",
       "      <td>46.68625</td>\n",
       "      <td>24.899333</td>\n",
       "      <td>-1.53790</td>\n",
       "      <td>23.504238</td>\n",
       "    </tr>\n",
       "    <tr>\n",
       "      <th>2</th>\n",
       "      <td>MKL</td>\n",
       "      <td>Markel</td>\n",
       "      <td>Insurance</td>\n",
       "      <td>USD</td>\n",
       "      <td>17.38</td>\n",
       "      <td>6.90</td>\n",
       "      <td>2.08</td>\n",
       "      <td>6</td>\n",
       "      <td>4</td>\n",
       "      <td>2</td>\n",
       "      <td>1034.56</td>\n",
       "      <td>10</td>\n",
       "      <td>2943.32320</td>\n",
       "      <td>500.037333</td>\n",
       "      <td>10.34560</td>\n",
       "      <td>1086.115573</td>\n",
       "    </tr>\n",
       "    <tr>\n",
       "      <th>3</th>\n",
       "      <td>SLF</td>\n",
       "      <td>SunLife</td>\n",
       "      <td>Insurance</td>\n",
       "      <td>USD</td>\n",
       "      <td>13.28</td>\n",
       "      <td>10.70</td>\n",
       "      <td>4.54</td>\n",
       "      <td>6</td>\n",
       "      <td>4</td>\n",
       "      <td>2</td>\n",
       "      <td>34.78</td>\n",
       "      <td>10</td>\n",
       "      <td>63.29960</td>\n",
       "      <td>38.837667</td>\n",
       "      <td>11.04265</td>\n",
       "      <td>37.837742</td>\n",
       "    </tr>\n",
       "  </tbody>\n",
       "</table>\n",
       "</div>"
      ],
      "text/plain": [
       "  ticker                name       type currency  p10_return_on_equity  \\\n",
       "0  BRK-B  Berkshire Hathaway  Insurance      USD                 12.90   \n",
       "1    MFC            Manulife  Insurance      USD                 14.50   \n",
       "2    MKL              Markel  Insurance      USD                 17.38   \n",
       "3    SLF             SunLife  Insurance      USD                 13.28   \n",
       "\n",
       "   p50_return_on_equity  p90_return_on_equity  p10_terminal  p50_terminal  \\\n",
       "0                  9.25                  5.60             6             4   \n",
       "1                 10.80                  1.44             6             4   \n",
       "2                  6.90                  2.08             6             4   \n",
       "3                 10.70                  4.54             6             4   \n",
       "\n",
       "   p90_terminal  start_value  discount_rate       npv_p10        npv_p50  \\\n",
       "0             2    316350.56             10  545704.71600  276806.740000   \n",
       "1             2        21.97             10      46.68625      24.899333   \n",
       "2             2      1034.56             10    2943.32320     500.037333   \n",
       "3             2        34.78             10      63.29960      38.837667   \n",
       "\n",
       "        npv_p90     risked_npv  \n",
       "0  142357.75200  317141.436400  \n",
       "1      -1.53790      23.504238  \n",
       "2      10.34560    1086.115573  \n",
       "3      11.04265      37.837742  "
      ]
     },
     "execution_count": 37,
     "metadata": {},
     "output_type": "execute_result"
    },
    {
     "data": {
      "application/javascript": "\n            setTimeout(function() {\n                var nbb_cell_id = 37;\n                var nbb_unformatted_code = \"# Display data\\ndf_ins.head()\";\n                var nbb_formatted_code = \"# Display data\\ndf_ins.head()\";\n                var nbb_cells = Jupyter.notebook.get_cells();\n                for (var i = 0; i < nbb_cells.length; ++i) {\n                    if (nbb_cells[i].input_prompt_number == nbb_cell_id) {\n                        if (nbb_cells[i].get_text() == nbb_unformatted_code) {\n                             nbb_cells[i].set_text(nbb_formatted_code);\n                        }\n                        break;\n                    }\n                }\n            }, 500);\n            ",
      "text/plain": [
       "<IPython.core.display.Javascript object>"
      ]
     },
     "metadata": {},
     "output_type": "display_data"
    }
   ],
   "source": [
    "# Display data\n",
    "df_ins.head()"
   ]
  },
  {
   "cell_type": "markdown",
   "metadata": {},
   "source": [
    "### Concatenate NPV Data"
   ]
  },
  {
   "cell_type": "code",
   "execution_count": 38,
   "metadata": {},
   "outputs": [
    {
     "data": {
      "text/html": [
       "<div>\n",
       "<style scoped>\n",
       "    .dataframe tbody tr th:only-of-type {\n",
       "        vertical-align: middle;\n",
       "    }\n",
       "\n",
       "    .dataframe tbody tr th {\n",
       "        vertical-align: top;\n",
       "    }\n",
       "\n",
       "    .dataframe thead th {\n",
       "        text-align: right;\n",
       "    }\n",
       "</style>\n",
       "<table border=\"1\" class=\"dataframe\">\n",
       "  <thead>\n",
       "    <tr style=\"text-align: right;\">\n",
       "      <th></th>\n",
       "      <th>ticker</th>\n",
       "      <th>name</th>\n",
       "      <th>npv_p10</th>\n",
       "      <th>npv_p50</th>\n",
       "      <th>npv_p90</th>\n",
       "      <th>risked_npv</th>\n",
       "    </tr>\n",
       "  </thead>\n",
       "  <tbody>\n",
       "    <tr>\n",
       "      <th>0</th>\n",
       "      <td>AAPL</td>\n",
       "      <td>Apple</td>\n",
       "      <td>199.009954</td>\n",
       "      <td>102.222515</td>\n",
       "      <td>62.179629</td>\n",
       "      <td>119.245881</td>\n",
       "    </tr>\n",
       "    <tr>\n",
       "      <th>1</th>\n",
       "      <td>ACN</td>\n",
       "      <td>Accenture</td>\n",
       "      <td>343.448333</td>\n",
       "      <td>196.918431</td>\n",
       "      <td>132.271153</td>\n",
       "      <td>221.483218</td>\n",
       "    </tr>\n",
       "    <tr>\n",
       "      <th>2</th>\n",
       "      <td>AMZN</td>\n",
       "      <td>Amazon.com</td>\n",
       "      <td>1881.393087</td>\n",
       "      <td>720.358267</td>\n",
       "      <td>314.979964</td>\n",
       "      <td>947.055222</td>\n",
       "    </tr>\n",
       "    <tr>\n",
       "      <th>3</th>\n",
       "      <td>BABA</td>\n",
       "      <td>Alibaba</td>\n",
       "      <td>669.148808</td>\n",
       "      <td>256.207424</td>\n",
       "      <td>112.027874</td>\n",
       "      <td>336.835974</td>\n",
       "    </tr>\n",
       "    <tr>\n",
       "      <th>4</th>\n",
       "      <td>COST</td>\n",
       "      <td>Costco</td>\n",
       "      <td>314.632940</td>\n",
       "      <td>180.396930</td>\n",
       "      <td>121.173574</td>\n",
       "      <td>202.900726</td>\n",
       "    </tr>\n",
       "  </tbody>\n",
       "</table>\n",
       "</div>"
      ],
      "text/plain": [
       "  ticker        name      npv_p10     npv_p50     npv_p90  risked_npv\n",
       "0   AAPL       Apple   199.009954  102.222515   62.179629  119.245881\n",
       "1    ACN   Accenture   343.448333  196.918431  132.271153  221.483218\n",
       "2   AMZN  Amazon.com  1881.393087  720.358267  314.979964  947.055222\n",
       "3   BABA     Alibaba   669.148808  256.207424  112.027874  336.835974\n",
       "4   COST      Costco   314.632940  180.396930  121.173574  202.900726"
      ]
     },
     "execution_count": 38,
     "metadata": {},
     "output_type": "execute_result"
    },
    {
     "data": {
      "application/javascript": "\n            setTimeout(function() {\n                var nbb_cell_id = 38;\n                var nbb_unformatted_code = \"# Concatenate dataframes\\ncols = ['ticker', 'name','npv_p10', 'npv_p50', 'npv_p90','risked_npv']\\ndf=pd.concat([df_fcf.loc[:, cols], df_div.loc[:, cols], df_ins.loc[:, cols]])\\ndf.head()\";\n                var nbb_formatted_code = \"# Concatenate dataframes\\ncols = [\\\"ticker\\\", \\\"name\\\", \\\"npv_p10\\\", \\\"npv_p50\\\", \\\"npv_p90\\\", \\\"risked_npv\\\"]\\ndf = pd.concat([df_fcf.loc[:, cols], df_div.loc[:, cols], df_ins.loc[:, cols]])\\ndf.head()\";\n                var nbb_cells = Jupyter.notebook.get_cells();\n                for (var i = 0; i < nbb_cells.length; ++i) {\n                    if (nbb_cells[i].input_prompt_number == nbb_cell_id) {\n                        if (nbb_cells[i].get_text() == nbb_unformatted_code) {\n                             nbb_cells[i].set_text(nbb_formatted_code);\n                        }\n                        break;\n                    }\n                }\n            }, 500);\n            ",
      "text/plain": [
       "<IPython.core.display.Javascript object>"
      ]
     },
     "metadata": {},
     "output_type": "display_data"
    }
   ],
   "source": [
    "# Concatenate dataframes\n",
    "cols = ['ticker', 'name','npv_p10', 'npv_p50', 'npv_p90','risked_npv']\n",
    "df=pd.concat([df_fcf.loc[:, cols], df_div.loc[:, cols], df_ins.loc[:, cols]])\n",
    "df.head()"
   ]
  },
  {
   "cell_type": "markdown",
   "metadata": {},
   "source": [
    "### Merge NPV with Prices"
   ]
  },
  {
   "cell_type": "code",
   "execution_count": 39,
   "metadata": {},
   "outputs": [
    {
     "data": {
      "text/html": [
       "<div>\n",
       "<style scoped>\n",
       "    .dataframe tbody tr th:only-of-type {\n",
       "        vertical-align: middle;\n",
       "    }\n",
       "\n",
       "    .dataframe tbody tr th {\n",
       "        vertical-align: top;\n",
       "    }\n",
       "\n",
       "    .dataframe thead th {\n",
       "        text-align: right;\n",
       "    }\n",
       "</style>\n",
       "<table border=\"1\" class=\"dataframe\">\n",
       "  <thead>\n",
       "    <tr style=\"text-align: right;\">\n",
       "      <th></th>\n",
       "      <th>ticker</th>\n",
       "      <th>name</th>\n",
       "      <th>type</th>\n",
       "      <th>currency</th>\n",
       "      <th>price</th>\n",
       "    </tr>\n",
       "  </thead>\n",
       "  <tbody>\n",
       "    <tr>\n",
       "      <th>0</th>\n",
       "      <td>AAL.L</td>\n",
       "      <td>AngloAmerican</td>\n",
       "      <td>Dividend</td>\n",
       "      <td>GBP</td>\n",
       "      <td>51.354440</td>\n",
       "    </tr>\n",
       "    <tr>\n",
       "      <th>1</th>\n",
       "      <td>AAPL</td>\n",
       "      <td>Apple</td>\n",
       "      <td>CashFlow</td>\n",
       "      <td>USD</td>\n",
       "      <td>155.389999</td>\n",
       "    </tr>\n",
       "    <tr>\n",
       "      <th>2</th>\n",
       "      <td>ACN</td>\n",
       "      <td>Accenture</td>\n",
       "      <td>CashFlow</td>\n",
       "      <td>USD</td>\n",
       "      <td>314.625000</td>\n",
       "    </tr>\n",
       "    <tr>\n",
       "      <th>3</th>\n",
       "      <td>ALA.TO</td>\n",
       "      <td>AltaGas</td>\n",
       "      <td>Dividend</td>\n",
       "      <td>CAD</td>\n",
       "      <td>22.497653</td>\n",
       "    </tr>\n",
       "    <tr>\n",
       "      <th>4</th>\n",
       "      <td>AMZN</td>\n",
       "      <td>Amazon.com</td>\n",
       "      <td>CashFlow</td>\n",
       "      <td>USD</td>\n",
       "      <td>2948.770020</td>\n",
       "    </tr>\n",
       "  </tbody>\n",
       "</table>\n",
       "</div>"
      ],
      "text/plain": [
       "   ticker           name      type currency        price\n",
       "0   AAL.L  AngloAmerican  Dividend      GBP    51.354440\n",
       "1    AAPL          Apple  CashFlow      USD   155.389999\n",
       "2     ACN      Accenture  CashFlow      USD   314.625000\n",
       "3  ALA.TO        AltaGas  Dividend      CAD    22.497653\n",
       "4    AMZN     Amazon.com  CashFlow      USD  2948.770020"
      ]
     },
     "execution_count": 39,
     "metadata": {},
     "output_type": "execute_result"
    },
    {
     "data": {
      "application/javascript": "\n            setTimeout(function() {\n                var nbb_cell_id = 39;\n                var nbb_unformatted_code = \"df_price.head()\";\n                var nbb_formatted_code = \"df_price.head()\";\n                var nbb_cells = Jupyter.notebook.get_cells();\n                for (var i = 0; i < nbb_cells.length; ++i) {\n                    if (nbb_cells[i].input_prompt_number == nbb_cell_id) {\n                        if (nbb_cells[i].get_text() == nbb_unformatted_code) {\n                             nbb_cells[i].set_text(nbb_formatted_code);\n                        }\n                        break;\n                    }\n                }\n            }, 500);\n            ",
      "text/plain": [
       "<IPython.core.display.Javascript object>"
      ]
     },
     "metadata": {},
     "output_type": "display_data"
    }
   ],
   "source": [
    "df_price.head()"
   ]
  },
  {
   "cell_type": "code",
   "execution_count": 40,
   "metadata": {},
   "outputs": [
    {
     "data": {
      "text/html": [
       "<div>\n",
       "<style scoped>\n",
       "    .dataframe tbody tr th:only-of-type {\n",
       "        vertical-align: middle;\n",
       "    }\n",
       "\n",
       "    .dataframe tbody tr th {\n",
       "        vertical-align: top;\n",
       "    }\n",
       "\n",
       "    .dataframe thead th {\n",
       "        text-align: right;\n",
       "    }\n",
       "</style>\n",
       "<table border=\"1\" class=\"dataframe\">\n",
       "  <thead>\n",
       "    <tr style=\"text-align: right;\">\n",
       "      <th></th>\n",
       "      <th>ticker</th>\n",
       "      <th>name</th>\n",
       "      <th>npv_p10</th>\n",
       "      <th>npv_p50</th>\n",
       "      <th>npv_p90</th>\n",
       "      <th>risked_npv</th>\n",
       "      <th>type</th>\n",
       "      <th>currency</th>\n",
       "      <th>price</th>\n",
       "    </tr>\n",
       "  </thead>\n",
       "  <tbody>\n",
       "    <tr>\n",
       "      <th>0</th>\n",
       "      <td>AAPL</td>\n",
       "      <td>Apple</td>\n",
       "      <td>199.009954</td>\n",
       "      <td>102.222515</td>\n",
       "      <td>62.179629</td>\n",
       "      <td>119.245881</td>\n",
       "      <td>CashFlow</td>\n",
       "      <td>USD</td>\n",
       "      <td>155.389999</td>\n",
       "    </tr>\n",
       "    <tr>\n",
       "      <th>1</th>\n",
       "      <td>ACN</td>\n",
       "      <td>Accenture</td>\n",
       "      <td>343.448333</td>\n",
       "      <td>196.918431</td>\n",
       "      <td>132.271153</td>\n",
       "      <td>221.483218</td>\n",
       "      <td>CashFlow</td>\n",
       "      <td>USD</td>\n",
       "      <td>314.625000</td>\n",
       "    </tr>\n",
       "    <tr>\n",
       "      <th>2</th>\n",
       "      <td>AMZN</td>\n",
       "      <td>Amazon.com</td>\n",
       "      <td>1881.393087</td>\n",
       "      <td>720.358267</td>\n",
       "      <td>314.979964</td>\n",
       "      <td>947.055222</td>\n",
       "      <td>CashFlow</td>\n",
       "      <td>USD</td>\n",
       "      <td>2948.770020</td>\n",
       "    </tr>\n",
       "    <tr>\n",
       "      <th>3</th>\n",
       "      <td>BABA</td>\n",
       "      <td>Alibaba</td>\n",
       "      <td>669.148808</td>\n",
       "      <td>256.207424</td>\n",
       "      <td>112.027874</td>\n",
       "      <td>336.835974</td>\n",
       "      <td>CashFlow</td>\n",
       "      <td>USD</td>\n",
       "      <td>87.669502</td>\n",
       "    </tr>\n",
       "    <tr>\n",
       "      <th>4</th>\n",
       "      <td>COST</td>\n",
       "      <td>Costco</td>\n",
       "      <td>314.632940</td>\n",
       "      <td>180.396930</td>\n",
       "      <td>121.173574</td>\n",
       "      <td>202.900726</td>\n",
       "      <td>CashFlow</td>\n",
       "      <td>USD</td>\n",
       "      <td>532.505005</td>\n",
       "    </tr>\n",
       "  </tbody>\n",
       "</table>\n",
       "</div>"
      ],
      "text/plain": [
       "  ticker        name      npv_p10     npv_p50     npv_p90  risked_npv  \\\n",
       "0   AAPL       Apple   199.009954  102.222515   62.179629  119.245881   \n",
       "1    ACN   Accenture   343.448333  196.918431  132.271153  221.483218   \n",
       "2   AMZN  Amazon.com  1881.393087  720.358267  314.979964  947.055222   \n",
       "3   BABA     Alibaba   669.148808  256.207424  112.027874  336.835974   \n",
       "4   COST      Costco   314.632940  180.396930  121.173574  202.900726   \n",
       "\n",
       "       type currency        price  \n",
       "0  CashFlow      USD   155.389999  \n",
       "1  CashFlow      USD   314.625000  \n",
       "2  CashFlow      USD  2948.770020  \n",
       "3  CashFlow      USD    87.669502  \n",
       "4  CashFlow      USD   532.505005  "
      ]
     },
     "execution_count": 40,
     "metadata": {},
     "output_type": "execute_result"
    },
    {
     "data": {
      "application/javascript": "\n            setTimeout(function() {\n                var nbb_cell_id = 40;\n                var nbb_unformatted_code = \"df_price.drop('name', axis=1, inplace=True)\\ndf_out = pd.merge(df, df_price, 'inner', left_on='ticker', right_on='ticker')\\ndf_out.head()\";\n                var nbb_formatted_code = \"df_price.drop(\\\"name\\\", axis=1, inplace=True)\\ndf_out = pd.merge(df, df_price, \\\"inner\\\", left_on=\\\"ticker\\\", right_on=\\\"ticker\\\")\\ndf_out.head()\";\n                var nbb_cells = Jupyter.notebook.get_cells();\n                for (var i = 0; i < nbb_cells.length; ++i) {\n                    if (nbb_cells[i].input_prompt_number == nbb_cell_id) {\n                        if (nbb_cells[i].get_text() == nbb_unformatted_code) {\n                             nbb_cells[i].set_text(nbb_formatted_code);\n                        }\n                        break;\n                    }\n                }\n            }, 500);\n            ",
      "text/plain": [
       "<IPython.core.display.Javascript object>"
      ]
     },
     "metadata": {},
     "output_type": "display_data"
    }
   ],
   "source": [
    "df_price.drop('name', axis=1, inplace=True)\n",
    "df_out = pd.merge(df, df_price, 'inner', left_on='ticker', right_on='ticker')\n",
    "df_out.head()"
   ]
  },
  {
   "cell_type": "code",
   "execution_count": 41,
   "metadata": {},
   "outputs": [
    {
     "data": {
      "application/javascript": "\n            setTimeout(function() {\n                var nbb_cell_id = 41;\n                var nbb_unformatted_code = \"df_out['valuation']=df_out['price']/df_out['risked_npv']\";\n                var nbb_formatted_code = \"df_out[\\\"valuation\\\"] = df_out[\\\"price\\\"] / df_out[\\\"risked_npv\\\"]\";\n                var nbb_cells = Jupyter.notebook.get_cells();\n                for (var i = 0; i < nbb_cells.length; ++i) {\n                    if (nbb_cells[i].input_prompt_number == nbb_cell_id) {\n                        if (nbb_cells[i].get_text() == nbb_unformatted_code) {\n                             nbb_cells[i].set_text(nbb_formatted_code);\n                        }\n                        break;\n                    }\n                }\n            }, 500);\n            ",
      "text/plain": [
       "<IPython.core.display.Javascript object>"
      ]
     },
     "metadata": {},
     "output_type": "display_data"
    }
   ],
   "source": [
    "df_out['valuation']=df_out['price']/df_out['risked_npv']"
   ]
  },
  {
   "cell_type": "code",
   "execution_count": 42,
   "metadata": {},
   "outputs": [
    {
     "data": {
      "application/javascript": "\n            setTimeout(function() {\n                var nbb_cell_id = 42;\n                var nbb_unformatted_code = \"df_out[['price_exceeds_p10','price_exceeds_p50','price_exceeds_p90']] = True\\ndf_out['price_exceeds_p10'] = df_out['price_exceeds_p10'].where(df_out.loc[:, 'price'] > df_out.loc[:, 'npv_p10'],False)\\ndf_out['price_exceeds_p50'] = df_out['price_exceeds_p50'].where(df_out.loc[:, 'price'] > df_out.loc[:, 'npv_p50'],False)\\ndf_out['price_exceeds_p90'] = df_out['price_exceeds_p90'].where(df_out.loc[:, 'price'] > df_out.loc[:, 'npv_p90'],False)\";\n                var nbb_formatted_code = \"df_out[[\\\"price_exceeds_p10\\\", \\\"price_exceeds_p50\\\", \\\"price_exceeds_p90\\\"]] = True\\ndf_out[\\\"price_exceeds_p10\\\"] = df_out[\\\"price_exceeds_p10\\\"].where(\\n    df_out.loc[:, \\\"price\\\"] > df_out.loc[:, \\\"npv_p10\\\"], False\\n)\\ndf_out[\\\"price_exceeds_p50\\\"] = df_out[\\\"price_exceeds_p50\\\"].where(\\n    df_out.loc[:, \\\"price\\\"] > df_out.loc[:, \\\"npv_p50\\\"], False\\n)\\ndf_out[\\\"price_exceeds_p90\\\"] = df_out[\\\"price_exceeds_p90\\\"].where(\\n    df_out.loc[:, \\\"price\\\"] > df_out.loc[:, \\\"npv_p90\\\"], False\\n)\";\n                var nbb_cells = Jupyter.notebook.get_cells();\n                for (var i = 0; i < nbb_cells.length; ++i) {\n                    if (nbb_cells[i].input_prompt_number == nbb_cell_id) {\n                        if (nbb_cells[i].get_text() == nbb_unformatted_code) {\n                             nbb_cells[i].set_text(nbb_formatted_code);\n                        }\n                        break;\n                    }\n                }\n            }, 500);\n            ",
      "text/plain": [
       "<IPython.core.display.Javascript object>"
      ]
     },
     "metadata": {},
     "output_type": "display_data"
    }
   ],
   "source": [
    "df_out[['price_exceeds_p10','price_exceeds_p50','price_exceeds_p90']] = True\n",
    "df_out['price_exceeds_p10'] = df_out['price_exceeds_p10'].where(df_out.loc[:, 'price'] > df_out.loc[:, 'npv_p10'],False)\n",
    "df_out['price_exceeds_p50'] = df_out['price_exceeds_p50'].where(df_out.loc[:, 'price'] > df_out.loc[:, 'npv_p50'],False)\n",
    "df_out['price_exceeds_p90'] = df_out['price_exceeds_p90'].where(df_out.loc[:, 'price'] > df_out.loc[:, 'npv_p90'],False)"
   ]
  },
  {
   "cell_type": "markdown",
   "metadata": {},
   "source": [
    "## Save"
   ]
  },
  {
   "cell_type": "code",
   "execution_count": 43,
   "metadata": {},
   "outputs": [
    {
     "data": {
      "application/javascript": "\n            setTimeout(function() {\n                var nbb_cell_id = 43;\n                var nbb_unformatted_code = \"# Set the correct column order for viewing\\ncols = [\\n    'ticker',\\n    'name',\\n    'type',\\n    'currency',\\n    'npv_p10',\\n    'npv_p50',\\n    'npv_p90',\\n    'risked_npv',\\n    'price',\\n    'valuation',\\n    'price_exceeds_p10',\\n    'price_exceeds_p50',\\n    'price_exceeds_p90'\\n]\";\n                var nbb_formatted_code = \"# Set the correct column order for viewing\\ncols = [\\n    \\\"ticker\\\",\\n    \\\"name\\\",\\n    \\\"type\\\",\\n    \\\"currency\\\",\\n    \\\"npv_p10\\\",\\n    \\\"npv_p50\\\",\\n    \\\"npv_p90\\\",\\n    \\\"risked_npv\\\",\\n    \\\"price\\\",\\n    \\\"valuation\\\",\\n    \\\"price_exceeds_p10\\\",\\n    \\\"price_exceeds_p50\\\",\\n    \\\"price_exceeds_p90\\\",\\n]\";\n                var nbb_cells = Jupyter.notebook.get_cells();\n                for (var i = 0; i < nbb_cells.length; ++i) {\n                    if (nbb_cells[i].input_prompt_number == nbb_cell_id) {\n                        if (nbb_cells[i].get_text() == nbb_unformatted_code) {\n                             nbb_cells[i].set_text(nbb_formatted_code);\n                        }\n                        break;\n                    }\n                }\n            }, 500);\n            ",
      "text/plain": [
       "<IPython.core.display.Javascript object>"
      ]
     },
     "metadata": {},
     "output_type": "display_data"
    }
   ],
   "source": [
    "# Set the correct column order for viewing\n",
    "cols = [\n",
    "    'ticker',\n",
    "    'name',\n",
    "    'type',\n",
    "    'currency',\n",
    "    'npv_p10',\n",
    "    'npv_p50',\n",
    "    'npv_p90',\n",
    "    'risked_npv',\n",
    "    'price',\n",
    "    'valuation',\n",
    "    'price_exceeds_p10',\n",
    "    'price_exceeds_p50',\n",
    "    'price_exceeds_p90'\n",
    "]"
   ]
  },
  {
   "cell_type": "code",
   "execution_count": 44,
   "metadata": {},
   "outputs": [
    {
     "data": {
      "application/javascript": "\n            setTimeout(function() {\n                var nbb_cell_id = 44;\n                var nbb_unformatted_code = \"# Write back df to csv\\ndf_out = df_out[cols]\\ndf_out.to_csv(dashboard / output_file, index=False)\";\n                var nbb_formatted_code = \"# Write back df to csv\\ndf_out = df_out[cols]\\ndf_out.to_csv(dashboard / output_file, index=False)\";\n                var nbb_cells = Jupyter.notebook.get_cells();\n                for (var i = 0; i < nbb_cells.length; ++i) {\n                    if (nbb_cells[i].input_prompt_number == nbb_cell_id) {\n                        if (nbb_cells[i].get_text() == nbb_unformatted_code) {\n                             nbb_cells[i].set_text(nbb_formatted_code);\n                        }\n                        break;\n                    }\n                }\n            }, 500);\n            ",
      "text/plain": [
       "<IPython.core.display.Javascript object>"
      ]
     },
     "metadata": {},
     "output_type": "display_data"
    }
   ],
   "source": [
    "# Write back df to csv\n",
    "df_out = df_out[cols]\n",
    "df_out.to_csv(dashboard / output_file, index=False)"
   ]
  }
 ],
 "metadata": {
  "kernelspec": {
   "display_name": "Python 3",
   "language": "python",
   "name": "python3"
  },
  "language_info": {
   "codemirror_mode": {
    "name": "ipython",
    "version": 3
   },
   "file_extension": ".py",
   "mimetype": "text/x-python",
   "name": "python",
   "nbconvert_exporter": "python",
   "pygments_lexer": "ipython3",
   "version": "3.7.9"
  },
  "toc": {
   "base_numbering": 1,
   "nav_menu": {},
   "number_sections": true,
   "sideBar": true,
   "skip_h1_title": true,
   "title_cell": "Table of Contents",
   "title_sidebar": "Contents",
   "toc_cell": false,
   "toc_position": {},
   "toc_section_display": true,
   "toc_window_display": false
  }
 },
 "nbformat": 4,
 "nbformat_minor": 4
}
