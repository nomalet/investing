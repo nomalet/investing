{
 "cells": [
  {
   "cell_type": "markdown",
   "metadata": {},
   "source": [
    "# Calculate NPV"
   ]
  },
  {
   "cell_type": "markdown",
   "metadata": {},
   "source": [
    "## Setup"
   ]
  },
  {
   "cell_type": "code",
   "execution_count": 1,
   "metadata": {},
   "outputs": [
    {
     "data": {
      "application/javascript": [
       "\n",
       "            setTimeout(function() {\n",
       "                var nbb_cell_id = 1;\n",
       "                var nbb_unformatted_code = \"%load_ext nb_black\";\n",
       "                var nbb_formatted_code = \"%load_ext nb_black\";\n",
       "                var nbb_cells = Jupyter.notebook.get_cells();\n",
       "                for (var i = 0; i < nbb_cells.length; ++i) {\n",
       "                    if (nbb_cells[i].input_prompt_number == nbb_cell_id) {\n",
       "                        if (nbb_cells[i].get_text() == nbb_unformatted_code) {\n",
       "                             nbb_cells[i].set_text(nbb_formatted_code);\n",
       "                        }\n",
       "                        break;\n",
       "                    }\n",
       "                }\n",
       "            }, 500);\n",
       "            "
      ],
      "text/plain": [
       "<IPython.core.display.Javascript object>"
      ]
     },
     "metadata": {},
     "output_type": "display_data"
    }
   ],
   "source": [
    "%load_ext nb_black"
   ]
  },
  {
   "cell_type": "code",
   "execution_count": 2,
   "metadata": {},
   "outputs": [
    {
     "data": {
      "application/javascript": [
       "\n",
       "            setTimeout(function() {\n",
       "                var nbb_cell_id = 2;\n",
       "                var nbb_unformatted_code = \"# Import libraries\\nimport pandas as pd\\nimport numpy as np\\nfrom openpyxl import load_workbook\\nfrom pathlib import Path\\nimport json\\n\\n# Plottting libraries\\nimport seaborn as sns\\nimport matplotlib.pyplot as plt\\n\\nsns.set_style(\\\"whitegrid\\\")\\n%matplotlib inline\\n%config InlineBackend.figure_format ='retina'\";\n",
       "                var nbb_formatted_code = \"# Import libraries\\nimport pandas as pd\\nimport numpy as np\\nfrom openpyxl import load_workbook\\nfrom pathlib import Path\\nimport json\\n\\n# Plottting libraries\\nimport seaborn as sns\\nimport matplotlib.pyplot as plt\\n\\nsns.set_style(\\\"whitegrid\\\")\\n%matplotlib inline\\n%config InlineBackend.figure_format ='retina'\";\n",
       "                var nbb_cells = Jupyter.notebook.get_cells();\n",
       "                for (var i = 0; i < nbb_cells.length; ++i) {\n",
       "                    if (nbb_cells[i].input_prompt_number == nbb_cell_id) {\n",
       "                        if (nbb_cells[i].get_text() == nbb_unformatted_code) {\n",
       "                             nbb_cells[i].set_text(nbb_formatted_code);\n",
       "                        }\n",
       "                        break;\n",
       "                    }\n",
       "                }\n",
       "            }, 500);\n",
       "            "
      ],
      "text/plain": [
       "<IPython.core.display.Javascript object>"
      ]
     },
     "metadata": {},
     "output_type": "display_data"
    }
   ],
   "source": [
    "# Import libraries\n",
    "import pandas as pd\n",
    "import numpy as np\n",
    "from openpyxl import load_workbook\n",
    "from pathlib import Path\n",
    "import json\n",
    "\n",
    "# Plottting libraries\n",
    "import seaborn as sns\n",
    "import matplotlib.pyplot as plt\n",
    "\n",
    "sns.set_style(\"whitegrid\")\n",
    "%matplotlib inline\n",
    "%config InlineBackend.figure_format ='retina'"
   ]
  },
  {
   "cell_type": "markdown",
   "metadata": {},
   "source": [
    "## Configure"
   ]
  },
  {
   "cell_type": "code",
   "execution_count": 3,
   "metadata": {},
   "outputs": [
    {
     "data": {
      "application/javascript": [
       "\n",
       "            setTimeout(function() {\n",
       "                var nbb_cell_id = 3;\n",
       "                var nbb_unformatted_code = \"# Set data path\\nfile_path = Path(\\\"./data\\\")\\nfinance_data_path = Path(\\\"./data/finance_data\\\")\\n\\n# File names\\nmaster_file = \\\"Master.xlsx\\\"\\ncashflow_file = \\\"CashFlow.xlsx\\\"\\nratios_file = \\\"Ratios.xlsx\\\"\\nprice_file = \\\"price.csv\\\"\\nnpv_file = \\\"npv.csv\\\"\";\n",
       "                var nbb_formatted_code = \"# Set data path\\nfile_path = Path(\\\"./data\\\")\\nfinance_data_path = Path(\\\"./data/finance_data\\\")\\n\\n# File names\\nmaster_file = \\\"Master.xlsx\\\"\\ncashflow_file = \\\"CashFlow.xlsx\\\"\\nratios_file = \\\"Ratios.xlsx\\\"\\nprice_file = \\\"price.csv\\\"\\nnpv_file = \\\"npv.csv\\\"\";\n",
       "                var nbb_cells = Jupyter.notebook.get_cells();\n",
       "                for (var i = 0; i < nbb_cells.length; ++i) {\n",
       "                    if (nbb_cells[i].input_prompt_number == nbb_cell_id) {\n",
       "                        if (nbb_cells[i].get_text() == nbb_unformatted_code) {\n",
       "                             nbb_cells[i].set_text(nbb_formatted_code);\n",
       "                        }\n",
       "                        break;\n",
       "                    }\n",
       "                }\n",
       "            }, 500);\n",
       "            "
      ],
      "text/plain": [
       "<IPython.core.display.Javascript object>"
      ]
     },
     "metadata": {},
     "output_type": "display_data"
    }
   ],
   "source": [
    "# Set data path\n",
    "file_path = Path(\"./data\")\n",
    "finance_data_path = Path(\"./data/finance_data\")\n",
    "\n",
    "# File names\n",
    "master_file = \"master_data.xlsx\"\n",
    "cashflow_file = \"CashFlow.xlsx\"\n",
    "ratios_file = \"Ratios.xlsx\"\n",
    "price_file = \"price.csv\"\n",
    "npv_file = \"npv.csv\""
   ]
  },
  {
   "cell_type": "markdown",
   "metadata": {},
   "source": [
    "## Functions"
   ]
  },
  {
   "cell_type": "code",
   "execution_count": 4,
   "metadata": {},
   "outputs": [
    {
     "data": {
      "application/javascript": [
       "\n",
       "            setTimeout(function() {\n",
       "                var nbb_cell_id = 4;\n",
       "                var nbb_unformatted_code = \"# Load the raw cashflow data and convert to dataframe\\ndef cashflow_loader(file_path, ticker):\\n    # Open the file\\n    df = pd.read_excel(file_path, sheet_name=ticker, engine=\\\"openpyxl\\\", skiprows=1)\\n    # Set index column,\\n    df.set_index(\\\"Cash Flow Statement\\\", inplace=True)\\n    # Drop LTM if it exists and set the index to years\\n    df.drop(\\\"LTM\\\", axis=1, errors=\\\"ignore\\\", inplace=True)\\n    # Set the index to years\\n    df.columns = pd.to_datetime(df.columns).year\\n    df = df.T\\n    # Rename column\\n    df = df.loc[:, [\\\"Cash Flow per Share\\\"]]\\n    df.columns = [\\\"FCF_share\\\"]\\n\\n    return df\";\n",
       "                var nbb_formatted_code = \"# Load the raw cashflow data and convert to dataframe\\ndef cashflow_loader(file_path, ticker):\\n    # Open the file\\n    df = pd.read_excel(file_path, sheet_name=ticker, engine=\\\"openpyxl\\\", skiprows=1)\\n    # Set index column,\\n    df.set_index(\\\"Cash Flow Statement\\\", inplace=True)\\n    # Drop LTM if it exists and set the index to years\\n    df.drop(\\\"LTM\\\", axis=1, errors=\\\"ignore\\\", inplace=True)\\n    # Set the index to years\\n    df.columns = pd.to_datetime(df.columns).year\\n    df = df.T\\n    # Rename column\\n    df = df.loc[:, [\\\"Cash Flow per Share\\\"]]\\n    df.columns = [\\\"FCF_share\\\"]\\n\\n    return df\";\n",
       "                var nbb_cells = Jupyter.notebook.get_cells();\n",
       "                for (var i = 0; i < nbb_cells.length; ++i) {\n",
       "                    if (nbb_cells[i].input_prompt_number == nbb_cell_id) {\n",
       "                        if (nbb_cells[i].get_text() == nbb_unformatted_code) {\n",
       "                             nbb_cells[i].set_text(nbb_formatted_code);\n",
       "                        }\n",
       "                        break;\n",
       "                    }\n",
       "                }\n",
       "            }, 500);\n",
       "            "
      ],
      "text/plain": [
       "<IPython.core.display.Javascript object>"
      ]
     },
     "metadata": {},
     "output_type": "display_data"
    }
   ],
   "source": [
    "# Load the raw cashflow data and convert to dataframe\n",
    "def cashflow_loader(file_path, ticker):\n",
    "    # Open the file\n",
    "    df = pd.read_excel(file_path, sheet_name=ticker, engine=\"openpyxl\", skiprows=1)\n",
    "    # Set index column,\n",
    "    df.set_index(\"Cash Flow Statement\", inplace=True)\n",
    "    # Drop LTM if it exists and set the index to years\n",
    "    df.drop(\"LTM\", axis=1, errors=\"ignore\", inplace=True)\n",
    "    # Set the index to years\n",
    "    df.columns = pd.to_datetime(df.columns).year\n",
    "    df = df.T\n",
    "    # Rename column\n",
    "    df = df.loc[:, [\"Cash Flow per Share\"]]\n",
    "    df.columns = [\"FCF_share\"]\n",
    "\n",
    "    return df"
   ]
  },
  {
   "cell_type": "code",
   "execution_count": 24,
   "metadata": {},
   "outputs": [
    {
     "data": {
      "application/javascript": [
       "\n",
       "            setTimeout(function() {\n",
       "                var nbb_cell_id = 24;\n",
       "                var nbb_unformatted_code = \"def growth_calc(\\n    starting_fcf, discount_rate, growth_rate1, growth_rate2, perpetual_rate\\n):\\n    # Set a range for first 5 years\\n    years = np.arange(1, 6)\\n\\n    # Reset rates as fraction from percentage\\n    discount_rate /= 100\\n    growth_rate1 /= 100\\n    growth_rate2 /= 100\\n    perpetual_rate /= 100\\n\\n    # Calculate FCF for first stage\\n    fcf_stage1 = starting_fcf * (1 + growth_rate1) ** years\\n    # Calculate FCF for second stage\\n    fcf_stage2 = fcf_stage1[-1] * (1 + growth_rate2) ** (years)\\n    # Set to dataframes\\n    df1 = pd.DataFrame(data=fcf_stage1, index=years, columns=[\\\"value\\\"])\\n    df2 = pd.DataFrame(data=fcf_stage2, index=years + 5, columns=[\\\"value\\\"])\\n    # Add a terminal value\\n    terminal_value = (\\n        fcf_stage2[-1] * (1 + perpetual_rate) / (discount_rate - perpetual_rate)\\n    )\\n    # Concatenate the dataframes and set last row as terminal value\\n    df = pd.concat([df1, df2])\\n    # Reset index to create a years column\\n    df = df.reset_index().rename(columns={\\\"index\\\": \\\"years\\\"})\\n    df.loc[11] = 10, terminal_value\\n\\n    return df\";\n",
       "                var nbb_formatted_code = \"def growth_calc(\\n    starting_fcf, discount_rate, growth_rate1, growth_rate2, perpetual_rate\\n):\\n    # Set a range for first 5 years\\n    years = np.arange(1, 6)\\n\\n    # Reset rates as fraction from percentage\\n    discount_rate /= 100\\n    growth_rate1 /= 100\\n    growth_rate2 /= 100\\n    perpetual_rate /= 100\\n\\n    # Calculate FCF for first stage\\n    fcf_stage1 = starting_fcf * (1 + growth_rate1) ** years\\n    # Calculate FCF for second stage\\n    fcf_stage2 = fcf_stage1[-1] * (1 + growth_rate2) ** (years)\\n    # Set to dataframes\\n    df1 = pd.DataFrame(data=fcf_stage1, index=years, columns=[\\\"value\\\"])\\n    df2 = pd.DataFrame(data=fcf_stage2, index=years + 5, columns=[\\\"value\\\"])\\n    # Add a terminal value\\n    terminal_value = (\\n        fcf_stage2[-1] * (1 + perpetual_rate) / (discount_rate - perpetual_rate)\\n    )\\n    # Concatenate the dataframes and set last row as terminal value\\n    df = pd.concat([df1, df2])\\n    # Reset index to create a years column\\n    df = df.reset_index().rename(columns={\\\"index\\\": \\\"years\\\"})\\n    df.loc[11] = 10, terminal_value\\n\\n    return df\";\n",
       "                var nbb_cells = Jupyter.notebook.get_cells();\n",
       "                for (var i = 0; i < nbb_cells.length; ++i) {\n",
       "                    if (nbb_cells[i].input_prompt_number == nbb_cell_id) {\n",
       "                        if (nbb_cells[i].get_text() == nbb_unformatted_code) {\n",
       "                             nbb_cells[i].set_text(nbb_formatted_code);\n",
       "                        }\n",
       "                        break;\n",
       "                    }\n",
       "                }\n",
       "            }, 500);\n",
       "            "
      ],
      "text/plain": [
       "<IPython.core.display.Javascript object>"
      ]
     },
     "metadata": {},
     "output_type": "display_data"
    }
   ],
   "source": [
    "def growth_calc(\n",
    "    starting_fcf, discount_rate, growth_rate1, growth_rate2, perpetual_rate\n",
    "):\n",
    "    # Set a range for first 5 years\n",
    "    years = np.arange(1, 6)\n",
    "\n",
    "    # Reset rates as fraction from percentage\n",
    "    discount_rate /= 100\n",
    "    growth_rate1 /= 100\n",
    "    growth_rate2 /= 100\n",
    "    perpetual_rate /= 100\n",
    "\n",
    "    # Calculate FCF for first stage\n",
    "    fcf_stage1 = starting_fcf * (1 + growth_rate1) ** years\n",
    "    # Calculate FCF for second stage\n",
    "    fcf_stage2 = fcf_stage1[-1] * (1 + growth_rate2) ** (years)\n",
    "    # Set to dataframes\n",
    "    df1 = pd.DataFrame(data=fcf_stage1, index=years, columns=[\"value\"])\n",
    "    df2 = pd.DataFrame(data=fcf_stage2, index=years + 5, columns=[\"value\"])\n",
    "    # Add a terminal value\n",
    "    terminal_value = (\n",
    "        fcf_stage2[-1] * (1 + perpetual_rate) / (discount_rate - perpetual_rate)\n",
    "    )\n",
    "    # Concatenate the dataframes and set last row as terminal value\n",
    "    df = pd.concat([df1, df2])\n",
    "    # Reset index to create a years column\n",
    "    df = df.reset_index().rename(columns={\"index\": \"years\"})\n",
    "    df.loc[11] = 10, terminal_value\n",
    "\n",
    "    return df"
   ]
  },
  {
   "cell_type": "markdown",
   "metadata": {},
   "source": [
    "## Calculate NPV"
   ]
  },
  {
   "cell_type": "code",
   "execution_count": 56,
   "metadata": {},
   "outputs": [
    {
     "data": {
      "application/javascript": [
       "\n",
       "            setTimeout(function() {\n",
       "                var nbb_cell_id = 56;\n",
       "                var nbb_unformatted_code = \"def npv_calc(data, discount_rate):\\n    df = data.copy()\\n\\n    # Reset rate as fraction from percentage\\n    discount_rate /= 100\\n    # Calculate present value\\n    df[\\\"PV\\\"] = df[\\\"value\\\"] * (1 + discount_rate) ** (\\n    df.loc[df[\\\"years\\\"] == 1, \\\"years\\\"].values - df[\\\"years\\\"].values - 1\\n)\\n    return df\";\n",
       "                var nbb_formatted_code = \"def npv_calc(data, discount_rate):\\n    df = data.copy()\\n\\n    # Reset rate as fraction from percentage\\n    discount_rate /= 100\\n    # Calculate present value\\n    df[\\\"PV\\\"] = df[\\\"value\\\"] * (1 + discount_rate) ** (\\n        df.loc[df[\\\"years\\\"] == 1, \\\"years\\\"].values - df[\\\"years\\\"].values - 1\\n    )\\n    return df\";\n",
       "                var nbb_cells = Jupyter.notebook.get_cells();\n",
       "                for (var i = 0; i < nbb_cells.length; ++i) {\n",
       "                    if (nbb_cells[i].input_prompt_number == nbb_cell_id) {\n",
       "                        if (nbb_cells[i].get_text() == nbb_unformatted_code) {\n",
       "                             nbb_cells[i].set_text(nbb_formatted_code);\n",
       "                        }\n",
       "                        break;\n",
       "                    }\n",
       "                }\n",
       "            }, 500);\n",
       "            "
      ],
      "text/plain": [
       "<IPython.core.display.Javascript object>"
      ]
     },
     "metadata": {},
     "output_type": "display_data"
    }
   ],
   "source": [
    "def pv_calc(data, discount_rate):\n",
    "    df = data.copy()\n",
    "\n",
    "    # Reset rate as fraction from percentage\n",
    "    discount_rate /= 100\n",
    "    # Calculate present value\n",
    "    df[\"PV\"] = df[\"value\"] * (1 + discount_rate) ** (\n",
    "        df.loc[df[\"years\"] == 1, \"years\"].values - df[\"years\"].values - 1\n",
    "    )\n",
    "    \n",
    "    return df"
   ]
  },
  {
   "cell_type": "code",
   "execution_count": null,
   "metadata": {},
   "outputs": [],
   "source": [
    "def npv_calc(starting_fcf, discount_rate, growth_rate1, growth_rate2, perpetual_rate):\n",
    "    df_fcf = growth_calc(starting_fcf, discount_rate, growth_rate1, growth_rate2, perpetual_rate)\n",
    "    df_pv = pv_calc(df_fcf, discount_rate)\n",
    "    npv = df_pv['PV'].sum()\n",
    "    \n",
    "    return npv, df_pv"
   ]
  },
  {
   "cell_type": "code",
   "execution_count": null,
   "metadata": {},
   "outputs": [],
   "source": []
  },
  {
   "cell_type": "code",
   "execution_count": null,
   "metadata": {},
   "outputs": [],
   "source": [
    "# Load dataframe of all input values\n",
    "df_params = pd.read_csv(somefile.csv)"
   ]
  },
  {
   "cell_type": "code",
   "execution_count": 58,
   "metadata": {},
   "outputs": [
    {
     "ename": "SyntaxError",
     "evalue": "invalid syntax (<ipython-input-58-14e4333dee09>, line 4)",
     "output_type": "error",
     "traceback": [
      "\u001b[0;36m  File \u001b[0;32m\"<ipython-input-58-14e4333dee09>\"\u001b[0;36m, line \u001b[0;32m4\u001b[0m\n\u001b[0;31m    npv_p10 =\u001b[0m\n\u001b[0m              ^\u001b[0m\n\u001b[0;31mSyntaxError\u001b[0m\u001b[0;31m:\u001b[0m invalid syntax\n"
     ]
    },
    {
     "name": "stderr",
     "output_type": "stream",
     "text": [
      "ERROR:root:Cannot parse: 4:14:     npv_p10 = \n",
      "Traceback (most recent call last):\n",
      "  File \"/Users/telamon/miniconda3/envs/invest/lib/python3.7/site-packages/lab_black.py\", line 218, in format_cell\n",
      "    formatted_code = _format_code(cell)\n",
      "  File \"/Users/telamon/miniconda3/envs/invest/lib/python3.7/site-packages/lab_black.py\", line 29, in _format_code\n",
      "    return format_str(src_contents=code, mode=FileMode())\n",
      "  File \"/Users/telamon/miniconda3/envs/invest/lib/python3.7/site-packages/black/__init__.py\", line 1077, in format_str\n",
      "    src_node = lib2to3_parse(src_contents.lstrip(), mode.target_versions)\n",
      "  File \"/Users/telamon/miniconda3/envs/invest/lib/python3.7/site-packages/black/parsing.py\", line 132, in lib2to3_parse\n",
      "    raise exc from None\n",
      "black.parsing.InvalidInput: Cannot parse: 4:14:     npv_p10 = \n"
     ]
    }
   ],
   "source": [
    "npv_dict = {}\n",
    "\n",
    "for name in company_names:\n",
    "    npv_p10 = npv_calc(starting_fcf, discount_rate, growth_rate1, growth_rate2, perpetual_rate)\n",
    "    npv_p50 = npv_calc(starting_fcf, discount_rate, growth_rate1, growth_rate2, perpetual_rate)\n",
    "    npv_p90 = npv_calc(starting_fcf, discount_rate, growth_rate1, growth_rate2, perpetual_rate)\n",
    "    \n",
    "    risked_npv = 0.3 * npv_p10 + 0.4 * npv_p50 + 0.3 * npv_p90\n",
    "    \n",
    "    npv_dict[name] = {'npv':risked_npv, 'npv_p10':npv_p10, 'npv_p50':npv_p50, 'npv_p90':npv_p90, 'pv_data':df_pv}"
   ]
  },
  {
   "cell_type": "markdown",
   "metadata": {},
   "source": [
    "### Build Company FCF"
   ]
  },
  {
   "cell_type": "code",
   "execution_count": 10,
   "metadata": {},
   "outputs": [
    {
     "data": {
      "application/javascript": [
       "\n",
       "            setTimeout(function() {\n",
       "                var nbb_cell_id = 10;\n",
       "                var nbb_unformatted_code = \"# Load tickers\\ndf_tickers = pd.read_excel(\\n    file_path / master_file, sheet_name=\\\"Names\\\", engine=\\\"openpyxl\\\"\\n)\";\n",
       "                var nbb_formatted_code = \"# Load tickers\\ndf_tickers = pd.read_excel(\\n    file_path / master_file, sheet_name=\\\"Names\\\", engine=\\\"openpyxl\\\"\\n)\";\n",
       "                var nbb_cells = Jupyter.notebook.get_cells();\n",
       "                for (var i = 0; i < nbb_cells.length; ++i) {\n",
       "                    if (nbb_cells[i].input_prompt_number == nbb_cell_id) {\n",
       "                        if (nbb_cells[i].get_text() == nbb_unformatted_code) {\n",
       "                             nbb_cells[i].set_text(nbb_formatted_code);\n",
       "                        }\n",
       "                        break;\n",
       "                    }\n",
       "                }\n",
       "            }, 500);\n",
       "            "
      ],
      "text/plain": [
       "<IPython.core.display.Javascript object>"
      ]
     },
     "metadata": {},
     "output_type": "display_data"
    }
   ],
   "source": [
    "# Load tickers\n",
    "df_tickers = pd.read_excel(\n",
    "    file_path / master_file, sheet_name=\"Names\", engine=\"openpyxl\"\n",
    ")"
   ]
  },
  {
   "cell_type": "code",
   "execution_count": 11,
   "metadata": {},
   "outputs": [
    {
     "data": {
      "application/javascript": [
       "\n",
       "            setTimeout(function() {\n",
       "                var nbb_cell_id = 11;\n",
       "                var nbb_unformatted_code = \"df_tickers = df_tickers.iloc[:1]\";\n",
       "                var nbb_formatted_code = \"df_tickers = df_tickers.iloc[:1]\";\n",
       "                var nbb_cells = Jupyter.notebook.get_cells();\n",
       "                for (var i = 0; i < nbb_cells.length; ++i) {\n",
       "                    if (nbb_cells[i].input_prompt_number == nbb_cell_id) {\n",
       "                        if (nbb_cells[i].get_text() == nbb_unformatted_code) {\n",
       "                             nbb_cells[i].set_text(nbb_formatted_code);\n",
       "                        }\n",
       "                        break;\n",
       "                    }\n",
       "                }\n",
       "            }, 500);\n",
       "            "
      ],
      "text/plain": [
       "<IPython.core.display.Javascript object>"
      ]
     },
     "metadata": {},
     "output_type": "display_data"
    }
   ],
   "source": [
    "df_tickers = df_tickers.iloc[:1]"
   ]
  },
  {
   "cell_type": "code",
   "execution_count": 12,
   "metadata": {},
   "outputs": [
    {
     "data": {
      "application/javascript": [
       "\n",
       "            setTimeout(function() {\n",
       "                var nbb_cell_id = 12;\n",
       "                var nbb_unformatted_code = \"company_fcf = {}\\nmask = df_tickers[\\\"Type\\\"] == \\\"Regular\\\"\\nfor name in df_tickers.loc[mask, \\\"Ticker\\\"]:\\n    company_fcf[name] = cashflow_loader(finance_data_path / cashflow_file, name)\";\n",
       "                var nbb_formatted_code = \"company_fcf = {}\\nmask = df_tickers[\\\"Type\\\"] == \\\"Regular\\\"\\nfor name in df_tickers.loc[mask, \\\"Ticker\\\"]:\\n    company_fcf[name] = cashflow_loader(finance_data_path / cashflow_file, name)\";\n",
       "                var nbb_cells = Jupyter.notebook.get_cells();\n",
       "                for (var i = 0; i < nbb_cells.length; ++i) {\n",
       "                    if (nbb_cells[i].input_prompt_number == nbb_cell_id) {\n",
       "                        if (nbb_cells[i].get_text() == nbb_unformatted_code) {\n",
       "                             nbb_cells[i].set_text(nbb_formatted_code);\n",
       "                        }\n",
       "                        break;\n",
       "                    }\n",
       "                }\n",
       "            }, 500);\n",
       "            "
      ],
      "text/plain": [
       "<IPython.core.display.Javascript object>"
      ]
     },
     "metadata": {},
     "output_type": "display_data"
    }
   ],
   "source": [
    "company_fcf = {}\n",
    "mask = df_tickers[\"Type\"] == \"Regular\"\n",
    "for name in df_tickers.loc[mask, \"Ticker\"]:\n",
    "    company_fcf[name] = cashflow_loader(finance_data_path / cashflow_file, name)"
   ]
  },
  {
   "cell_type": "markdown",
   "metadata": {},
   "source": [
    "### FCF Starting Point Values"
   ]
  },
  {
   "cell_type": "code",
   "execution_count": 13,
   "metadata": {},
   "outputs": [
    {
     "data": {
      "application/javascript": [
       "\n",
       "            setTimeout(function() {\n",
       "                var nbb_cell_id = 13;\n",
       "                var nbb_unformatted_code = \"fcf_dict = {}\\nfor key, value in company_fcf.items():\\n    fcf_dict[key] = value.loc[value.last_valid_index(), \\\"FCF_share\\\"]\\n\\ndf_start = pd.DataFrame.from_dict(\\n    data=fcf_dict, orient=\\\"index\\\", columns=[\\\"start_value\\\"]\\n)\";\n",
       "                var nbb_formatted_code = \"fcf_dict = {}\\nfor key, value in company_fcf.items():\\n    fcf_dict[key] = value.loc[value.last_valid_index(), \\\"FCF_share\\\"]\\n\\ndf_start = pd.DataFrame.from_dict(\\n    data=fcf_dict, orient=\\\"index\\\", columns=[\\\"start_value\\\"]\\n)\";\n",
       "                var nbb_cells = Jupyter.notebook.get_cells();\n",
       "                for (var i = 0; i < nbb_cells.length; ++i) {\n",
       "                    if (nbb_cells[i].input_prompt_number == nbb_cell_id) {\n",
       "                        if (nbb_cells[i].get_text() == nbb_unformatted_code) {\n",
       "                             nbb_cells[i].set_text(nbb_formatted_code);\n",
       "                        }\n",
       "                        break;\n",
       "                    }\n",
       "                }\n",
       "            }, 500);\n",
       "            "
      ],
      "text/plain": [
       "<IPython.core.display.Javascript object>"
      ]
     },
     "metadata": {},
     "output_type": "display_data"
    }
   ],
   "source": [
    "fcf_dict = {}\n",
    "for key, value in company_fcf.items():\n",
    "    fcf_dict[key] = value.loc[value.last_valid_index(), \"FCF_share\"]\n",
    "\n",
    "df_start = pd.DataFrame.from_dict(\n",
    "    data=fcf_dict, orient=\"index\", columns=[\"start_value\"]\n",
    ")"
   ]
  },
  {
   "cell_type": "code",
   "execution_count": 14,
   "metadata": {},
   "outputs": [
    {
     "data": {
      "text/html": [
       "<div>\n",
       "<style scoped>\n",
       "    .dataframe tbody tr th:only-of-type {\n",
       "        vertical-align: middle;\n",
       "    }\n",
       "\n",
       "    .dataframe tbody tr th {\n",
       "        vertical-align: top;\n",
       "    }\n",
       "\n",
       "    .dataframe thead th {\n",
       "        text-align: right;\n",
       "    }\n",
       "</style>\n",
       "<table border=\"1\" class=\"dataframe\">\n",
       "  <thead>\n",
       "    <tr style=\"text-align: right;\">\n",
       "      <th></th>\n",
       "      <th>start_value</th>\n",
       "    </tr>\n",
       "  </thead>\n",
       "  <tbody>\n",
       "    <tr>\n",
       "      <th>ACN</th>\n",
       "      <td>13.23</td>\n",
       "    </tr>\n",
       "  </tbody>\n",
       "</table>\n",
       "</div>"
      ],
      "text/plain": [
       "     start_value\n",
       "ACN        13.23"
      ]
     },
     "execution_count": 14,
     "metadata": {},
     "output_type": "execute_result"
    },
    {
     "data": {
      "application/javascript": [
       "\n",
       "            setTimeout(function() {\n",
       "                var nbb_cell_id = 14;\n",
       "                var nbb_unformatted_code = \"df_start\";\n",
       "                var nbb_formatted_code = \"df_start\";\n",
       "                var nbb_cells = Jupyter.notebook.get_cells();\n",
       "                for (var i = 0; i < nbb_cells.length; ++i) {\n",
       "                    if (nbb_cells[i].input_prompt_number == nbb_cell_id) {\n",
       "                        if (nbb_cells[i].get_text() == nbb_unformatted_code) {\n",
       "                             nbb_cells[i].set_text(nbb_formatted_code);\n",
       "                        }\n",
       "                        break;\n",
       "                    }\n",
       "                }\n",
       "            }, 500);\n",
       "            "
      ],
      "text/plain": [
       "<IPython.core.display.Javascript object>"
      ]
     },
     "metadata": {},
     "output_type": "display_data"
    }
   ],
   "source": [
    "df_start"
   ]
  },
  {
   "cell_type": "markdown",
   "metadata": {},
   "source": [
    "### NPV Calculations"
   ]
  },
  {
   "cell_type": "code",
   "execution_count": null,
   "metadata": {},
   "outputs": [],
   "source": []
  },
  {
   "cell_type": "markdown",
   "metadata": {},
   "source": [
    "## Export Data"
   ]
  },
  {
   "cell_type": "code",
   "execution_count": null,
   "metadata": {},
   "outputs": [],
   "source": [
    "# df.to_csv(file_path/forecasts_file)"
   ]
  },
  {
   "cell_type": "code",
   "execution_count": null,
   "metadata": {},
   "outputs": [],
   "source": []
  }
 ],
 "metadata": {
  "kernelspec": {
   "display_name": "Python 3",
   "language": "python",
   "name": "python3"
  },
  "language_info": {
   "codemirror_mode": {
    "name": "ipython",
    "version": 3
   },
   "file_extension": ".py",
   "mimetype": "text/x-python",
   "name": "python",
   "nbconvert_exporter": "python",
   "pygments_lexer": "ipython3",
   "version": "3.7.9"
  },
  "toc": {
   "base_numbering": 1,
   "nav_menu": {},
   "number_sections": true,
   "sideBar": true,
   "skip_h1_title": true,
   "title_cell": "Table of Contents",
   "title_sidebar": "Contents",
   "toc_cell": false,
   "toc_position": {},
   "toc_section_display": true,
   "toc_window_display": false
  }
 },
 "nbformat": 4,
 "nbformat_minor": 4
}
