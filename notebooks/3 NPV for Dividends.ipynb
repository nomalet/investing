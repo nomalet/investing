{
 "cells": [
  {
   "cell_type": "markdown",
   "metadata": {},
   "source": [
    "# Calculate NPV"
   ]
  },
  {
   "cell_type": "markdown",
   "metadata": {},
   "source": [
    "## Setup"
   ]
  },
  {
   "cell_type": "code",
   "execution_count": 1,
   "metadata": {},
   "outputs": [
    {
     "data": {
      "application/javascript": "\n            setTimeout(function() {\n                var nbb_cell_id = 1;\n                var nbb_unformatted_code = \"%load_ext nb_black\";\n                var nbb_formatted_code = \"%load_ext nb_black\";\n                var nbb_cells = Jupyter.notebook.get_cells();\n                for (var i = 0; i < nbb_cells.length; ++i) {\n                    if (nbb_cells[i].input_prompt_number == nbb_cell_id) {\n                        if (nbb_cells[i].get_text() == nbb_unformatted_code) {\n                             nbb_cells[i].set_text(nbb_formatted_code);\n                        }\n                        break;\n                    }\n                }\n            }, 500);\n            ",
      "text/plain": [
       "<IPython.core.display.Javascript object>"
      ]
     },
     "metadata": {},
     "output_type": "display_data"
    }
   ],
   "source": [
    "%load_ext nb_black"
   ]
  },
  {
   "cell_type": "code",
   "execution_count": 2,
   "metadata": {},
   "outputs": [
    {
     "data": {
      "application/javascript": "\n            setTimeout(function() {\n                var nbb_cell_id = 2;\n                var nbb_unformatted_code = \"%load_ext autoreload\\n%autoreload 2\";\n                var nbb_formatted_code = \"%load_ext autoreload\\n%autoreload 2\";\n                var nbb_cells = Jupyter.notebook.get_cells();\n                for (var i = 0; i < nbb_cells.length; ++i) {\n                    if (nbb_cells[i].input_prompt_number == nbb_cell_id) {\n                        if (nbb_cells[i].get_text() == nbb_unformatted_code) {\n                             nbb_cells[i].set_text(nbb_formatted_code);\n                        }\n                        break;\n                    }\n                }\n            }, 500);\n            ",
      "text/plain": [
       "<IPython.core.display.Javascript object>"
      ]
     },
     "metadata": {},
     "output_type": "display_data"
    }
   ],
   "source": [
    "%load_ext autoreload\n",
    "%autoreload 2"
   ]
  },
  {
   "cell_type": "code",
   "execution_count": 3,
   "metadata": {},
   "outputs": [
    {
     "data": {
      "application/javascript": "\n            setTimeout(function() {\n                var nbb_cell_id = 3;\n                var nbb_unformatted_code = \"# Import libraries\\nimport pandas as pd\\nimport numpy as np\\nfrom investing.config.file_paths import input_data, processed_data, output_data\\nfrom investing.tools.functions import npv_calc, pv_full_output\";\n                var nbb_formatted_code = \"# Import libraries\\nimport pandas as pd\\nimport numpy as np\\nfrom investing.config.file_paths import input_data, processed_data, output_data\\nfrom investing.tools.functions import npv_calc, pv_full_output\";\n                var nbb_cells = Jupyter.notebook.get_cells();\n                for (var i = 0; i < nbb_cells.length; ++i) {\n                    if (nbb_cells[i].input_prompt_number == nbb_cell_id) {\n                        if (nbb_cells[i].get_text() == nbb_unformatted_code) {\n                             nbb_cells[i].set_text(nbb_formatted_code);\n                        }\n                        break;\n                    }\n                }\n            }, 500);\n            ",
      "text/plain": [
       "<IPython.core.display.Javascript object>"
      ]
     },
     "metadata": {},
     "output_type": "display_data"
    }
   ],
   "source": [
    "# Import libraries\n",
    "import pandas as pd\n",
    "import numpy as np\n",
    "from investing.config.file_paths import input_data, processed_data, output_data\n",
    "from investing.tools.functions import npv_calc, pv_full_output"
   ]
  },
  {
   "cell_type": "markdown",
   "metadata": {},
   "source": [
    "## Configure"
   ]
  },
  {
   "cell_type": "code",
   "execution_count": 4,
   "metadata": {},
   "outputs": [
    {
     "data": {
      "application/javascript": "\n            setTimeout(function() {\n                var nbb_cell_id = 4;\n                var nbb_unformatted_code = \"# File names\\nparameters_file = \\\"params_dividends.csv\\\"\\nstart_values = \\\"start_data_dividends.csv\\\"\\nnpv_file = \\\"npv_dividends.csv\\\"\";\n                var nbb_formatted_code = \"# File names\\nparameters_file = \\\"params_dividends.csv\\\"\\nstart_values = \\\"start_data_dividends.csv\\\"\\nnpv_file = \\\"npv_dividends.csv\\\"\";\n                var nbb_cells = Jupyter.notebook.get_cells();\n                for (var i = 0; i < nbb_cells.length; ++i) {\n                    if (nbb_cells[i].input_prompt_number == nbb_cell_id) {\n                        if (nbb_cells[i].get_text() == nbb_unformatted_code) {\n                             nbb_cells[i].set_text(nbb_formatted_code);\n                        }\n                        break;\n                    }\n                }\n            }, 500);\n            ",
      "text/plain": [
       "<IPython.core.display.Javascript object>"
      ]
     },
     "metadata": {},
     "output_type": "display_data"
    }
   ],
   "source": [
    "# File names\n",
    "parameters_file = \"params_dividends.csv\"\n",
    "start_values = \"start_data_dividends.csv\"\n",
    "npv_file = \"npv_dividends.csv\""
   ]
  },
  {
   "cell_type": "markdown",
   "metadata": {},
   "source": [
    "## Calculate NPV"
   ]
  },
  {
   "cell_type": "code",
   "execution_count": 5,
   "metadata": {},
   "outputs": [
    {
     "data": {
      "application/javascript": "\n            setTimeout(function() {\n                var nbb_cell_id = 5;\n                var nbb_unformatted_code = \"# Load dataframe of all input values\\ndf_params = pd.read_csv(input_data / parameters_file)\\ndf_start = pd.read_csv(processed_data / start_values)\";\n                var nbb_formatted_code = \"# Load dataframe of all input values\\ndf_params = pd.read_csv(input_data / parameters_file)\\ndf_start = pd.read_csv(processed_data / start_values)\";\n                var nbb_cells = Jupyter.notebook.get_cells();\n                for (var i = 0; i < nbb_cells.length; ++i) {\n                    if (nbb_cells[i].input_prompt_number == nbb_cell_id) {\n                        if (nbb_cells[i].get_text() == nbb_unformatted_code) {\n                             nbb_cells[i].set_text(nbb_formatted_code);\n                        }\n                        break;\n                    }\n                }\n            }, 500);\n            ",
      "text/plain": [
       "<IPython.core.display.Javascript object>"
      ]
     },
     "metadata": {},
     "output_type": "display_data"
    }
   ],
   "source": [
    "# Load dataframe of all input values\n",
    "df_params = pd.read_csv(input_data / parameters_file)\n",
    "df_start = pd.read_csv(processed_data / start_values)"
   ]
  },
  {
   "cell_type": "code",
   "execution_count": 6,
   "metadata": {},
   "outputs": [
    {
     "data": {
      "application/javascript": "\n            setTimeout(function() {\n                var nbb_cell_id = 6;\n                var nbb_unformatted_code = \"# Build the dataframe\\ndf = pd.merge(df_params, df_start, \\\"outer\\\", \\\"ticker\\\")\";\n                var nbb_formatted_code = \"# Build the dataframe\\ndf = pd.merge(df_params, df_start, \\\"outer\\\", \\\"ticker\\\")\";\n                var nbb_cells = Jupyter.notebook.get_cells();\n                for (var i = 0; i < nbb_cells.length; ++i) {\n                    if (nbb_cells[i].input_prompt_number == nbb_cell_id) {\n                        if (nbb_cells[i].get_text() == nbb_unformatted_code) {\n                             nbb_cells[i].set_text(nbb_formatted_code);\n                        }\n                        break;\n                    }\n                }\n            }, 500);\n            ",
      "text/plain": [
       "<IPython.core.display.Javascript object>"
      ]
     },
     "metadata": {},
     "output_type": "display_data"
    }
   ],
   "source": [
    "# Build the dataframe\n",
    "df = pd.merge(df_params, df_start, \"outer\", \"ticker\")"
   ]
  },
  {
   "cell_type": "code",
   "execution_count": 7,
   "metadata": {},
   "outputs": [
    {
     "data": {
      "application/javascript": "\n            setTimeout(function() {\n                var nbb_cell_id = 7;\n                var nbb_unformatted_code = \"# Set the Discount Rate\\ndf[\\\"discount_rate\\\"] = 10\";\n                var nbb_formatted_code = \"# Set the Discount Rate\\ndf[\\\"discount_rate\\\"] = 10\";\n                var nbb_cells = Jupyter.notebook.get_cells();\n                for (var i = 0; i < nbb_cells.length; ++i) {\n                    if (nbb_cells[i].input_prompt_number == nbb_cell_id) {\n                        if (nbb_cells[i].get_text() == nbb_unformatted_code) {\n                             nbb_cells[i].set_text(nbb_formatted_code);\n                        }\n                        break;\n                    }\n                }\n            }, 500);\n            ",
      "text/plain": [
       "<IPython.core.display.Javascript object>"
      ]
     },
     "metadata": {},
     "output_type": "display_data"
    }
   ],
   "source": [
    "# Set the Discount Rate\n",
    "df[\"discount_rate\"] = 10"
   ]
  },
  {
   "cell_type": "code",
   "execution_count": 8,
   "metadata": {},
   "outputs": [
    {
     "data": {
      "application/javascript": "\n            setTimeout(function() {\n                var nbb_cell_id = 8;\n                var nbb_unformatted_code = \"# Calculate the NPV\\nfor pvalue in [\\\"p10\\\", \\\"p50\\\", \\\"p90\\\"]:\\n    starting_value = df[\\\"start_value\\\"]\\n    discount_rate = df[\\\"discount_rate\\\"]\\n    perpetual_rate = df[f\\\"{pvalue}_terminal\\\"]\\n    growth_stage1 = df[f\\\"{pvalue}_stage1\\\"]\\n    growth_stage2 = df[f\\\"{pvalue}_stage2\\\"]\\n    payout_ratio = df[\\\"payout_ratio\\\"]\\n\\n    df[f\\\"npv_{pvalue}\\\"] = np.vectorize(npv_calc)(\\n        starting_value,\\n        discount_rate,\\n        growth_stage1,\\n        growth_stage2,\\n        perpetual_rate,\\n        payout_ratio,\\n    )\";\n                var nbb_formatted_code = \"# Calculate the NPV\\nfor pvalue in [\\\"p10\\\", \\\"p50\\\", \\\"p90\\\"]:\\n    starting_value = df[\\\"start_value\\\"]\\n    discount_rate = df[\\\"discount_rate\\\"]\\n    perpetual_rate = df[f\\\"{pvalue}_terminal\\\"]\\n    growth_stage1 = df[f\\\"{pvalue}_stage1\\\"]\\n    growth_stage2 = df[f\\\"{pvalue}_stage2\\\"]\\n    payout_ratio = df[\\\"payout_ratio\\\"]\\n\\n    df[f\\\"npv_{pvalue}\\\"] = np.vectorize(npv_calc)(\\n        starting_value,\\n        discount_rate,\\n        growth_stage1,\\n        growth_stage2,\\n        perpetual_rate,\\n        payout_ratio,\\n    )\";\n                var nbb_cells = Jupyter.notebook.get_cells();\n                for (var i = 0; i < nbb_cells.length; ++i) {\n                    if (nbb_cells[i].input_prompt_number == nbb_cell_id) {\n                        if (nbb_cells[i].get_text() == nbb_unformatted_code) {\n                             nbb_cells[i].set_text(nbb_formatted_code);\n                        }\n                        break;\n                    }\n                }\n            }, 500);\n            ",
      "text/plain": [
       "<IPython.core.display.Javascript object>"
      ]
     },
     "metadata": {},
     "output_type": "display_data"
    }
   ],
   "source": [
    "# Calculate the NPV\n",
    "for pvalue in [\"p10\", \"p50\", \"p90\"]:\n",
    "    starting_value = df[\"start_value\"]\n",
    "    discount_rate = df[\"discount_rate\"]\n",
    "    perpetual_rate = df[f\"{pvalue}_terminal\"]\n",
    "    growth_stage1 = df[f\"{pvalue}_stage1\"]\n",
    "    growth_stage2 = df[f\"{pvalue}_stage2\"]\n",
    "    payout_ratio = df[\"payout_ratio\"]\n",
    "\n",
    "    df[f\"npv_{pvalue}\"] = np.vectorize(npv_calc)(\n",
    "        starting_value,\n",
    "        discount_rate,\n",
    "        growth_stage1,\n",
    "        growth_stage2,\n",
    "        perpetual_rate,\n",
    "        payout_ratio,\n",
    "    )"
   ]
  },
  {
   "cell_type": "code",
   "execution_count": 9,
   "metadata": {},
   "outputs": [
    {
     "data": {
      "application/javascript": "\n            setTimeout(function() {\n                var nbb_cell_id = 9;\n                var nbb_unformatted_code = \"# Calculate the present value forecasts\\npv_forecasts = {}\\nfor index, row in df.iterrows():\\n    temp_dict = {}\\n\\n    ticker = row[\\\"ticker\\\"]\\n\\n    for pvalue in [\\\"p10\\\", \\\"p50\\\", \\\"p90\\\"]:\\n        starting_value = row[\\\"start_value\\\"]\\n        discount_rate = row[\\\"discount_rate\\\"]\\n        growth_stage1 = row[f\\\"{pvalue}_stage1\\\"]\\n        growth_stage2 = row[f\\\"{pvalue}_stage2\\\"]\\n        perpetual_rate = row[f\\\"{pvalue}_terminal\\\"]\\n        payout_ratio = row[\\\"payout_ratio\\\"]\\n\\n        # Set the PV forecast to a temporary dictionary\\n        temp = pv_full_output(\\n            starting_value,\\n            discount_rate,\\n            growth_stage1,\\n            growth_stage2,\\n            perpetual_rate,\\n            payout_ratio,\\n        )\\n        # Extract the PV forecast dataframe from the dictionary and set to the temparory dict\\n        temp_dict[pvalue] = temp[\\\"full_pv\\\"]\\n\\n    # Set temp dict to the ticker\\n    pv_forecasts[ticker] = temp_dict\";\n                var nbb_formatted_code = \"# Calculate the present value forecasts\\npv_forecasts = {}\\nfor index, row in df.iterrows():\\n    temp_dict = {}\\n\\n    ticker = row[\\\"ticker\\\"]\\n\\n    for pvalue in [\\\"p10\\\", \\\"p50\\\", \\\"p90\\\"]:\\n        starting_value = row[\\\"start_value\\\"]\\n        discount_rate = row[\\\"discount_rate\\\"]\\n        growth_stage1 = row[f\\\"{pvalue}_stage1\\\"]\\n        growth_stage2 = row[f\\\"{pvalue}_stage2\\\"]\\n        perpetual_rate = row[f\\\"{pvalue}_terminal\\\"]\\n        payout_ratio = row[\\\"payout_ratio\\\"]\\n\\n        # Set the PV forecast to a temporary dictionary\\n        temp = pv_full_output(\\n            starting_value,\\n            discount_rate,\\n            growth_stage1,\\n            growth_stage2,\\n            perpetual_rate,\\n            payout_ratio,\\n        )\\n        # Extract the PV forecast dataframe from the dictionary and set to the temparory dict\\n        temp_dict[pvalue] = temp[\\\"full_pv\\\"]\\n\\n    # Set temp dict to the ticker\\n    pv_forecasts[ticker] = temp_dict\";\n                var nbb_cells = Jupyter.notebook.get_cells();\n                for (var i = 0; i < nbb_cells.length; ++i) {\n                    if (nbb_cells[i].input_prompt_number == nbb_cell_id) {\n                        if (nbb_cells[i].get_text() == nbb_unformatted_code) {\n                             nbb_cells[i].set_text(nbb_formatted_code);\n                        }\n                        break;\n                    }\n                }\n            }, 500);\n            ",
      "text/plain": [
       "<IPython.core.display.Javascript object>"
      ]
     },
     "metadata": {},
     "output_type": "display_data"
    }
   ],
   "source": [
    "# Calculate the present value forecasts\n",
    "pv_forecasts = {}\n",
    "for index, row in df.iterrows():\n",
    "    temp_dict = {}\n",
    "\n",
    "    ticker = row[\"ticker\"]\n",
    "\n",
    "    for pvalue in [\"p10\", \"p50\", \"p90\"]:\n",
    "        starting_value = row[\"start_value\"]\n",
    "        discount_rate = row[\"discount_rate\"]\n",
    "        growth_stage1 = row[f\"{pvalue}_stage1\"]\n",
    "        growth_stage2 = row[f\"{pvalue}_stage2\"]\n",
    "        perpetual_rate = row[f\"{pvalue}_terminal\"]\n",
    "        payout_ratio = row[\"payout_ratio\"]\n",
    "\n",
    "        # Set the PV forecast to a temporary dictionary\n",
    "        temp = pv_full_output(\n",
    "            starting_value,\n",
    "            discount_rate,\n",
    "            growth_stage1,\n",
    "            growth_stage2,\n",
    "            perpetual_rate,\n",
    "            payout_ratio,\n",
    "        )\n",
    "        # Extract the PV forecast dataframe from the dictionary and set to the temparory dict\n",
    "        temp_dict[pvalue] = temp[\"full_pv\"]\n",
    "\n",
    "    # Set temp dict to the ticker\n",
    "    pv_forecasts[ticker] = temp_dict"
   ]
  },
  {
   "cell_type": "code",
   "execution_count": 10,
   "metadata": {},
   "outputs": [
    {
     "data": {
      "application/javascript": "\n            setTimeout(function() {\n                var nbb_cell_id = 10;\n                var nbb_unformatted_code = \"# Calculate Risked NPV\\ndf[\\\"risked_npv\\\"] = 0.3 * df[\\\"npv_p10\\\"] + 0.4 * df[\\\"npv_p50\\\"] + 0.3 * df[\\\"npv_p90\\\"]\";\n                var nbb_formatted_code = \"# Calculate Risked NPV\\ndf[\\\"risked_npv\\\"] = 0.3 * df[\\\"npv_p10\\\"] + 0.4 * df[\\\"npv_p50\\\"] + 0.3 * df[\\\"npv_p90\\\"]\";\n                var nbb_cells = Jupyter.notebook.get_cells();\n                for (var i = 0; i < nbb_cells.length; ++i) {\n                    if (nbb_cells[i].input_prompt_number == nbb_cell_id) {\n                        if (nbb_cells[i].get_text() == nbb_unformatted_code) {\n                             nbb_cells[i].set_text(nbb_formatted_code);\n                        }\n                        break;\n                    }\n                }\n            }, 500);\n            ",
      "text/plain": [
       "<IPython.core.display.Javascript object>"
      ]
     },
     "metadata": {},
     "output_type": "display_data"
    }
   ],
   "source": [
    "# Calculate Risked NPV\n",
    "df[\"risked_npv\"] = 0.3 * df[\"npv_p10\"] + 0.4 * df[\"npv_p50\"] + 0.3 * df[\"npv_p90\"]"
   ]
  },
  {
   "cell_type": "markdown",
   "metadata": {},
   "source": [
    "## Export Data"
   ]
  },
  {
   "cell_type": "code",
   "execution_count": 11,
   "metadata": {},
   "outputs": [
    {
     "data": {
      "application/javascript": "\n            setTimeout(function() {\n                var nbb_cell_id = 11;\n                var nbb_unformatted_code = \"df.to_csv(output_data / npv_file, index=False)\";\n                var nbb_formatted_code = \"df.to_csv(output_data / npv_file, index=False)\";\n                var nbb_cells = Jupyter.notebook.get_cells();\n                for (var i = 0; i < nbb_cells.length; ++i) {\n                    if (nbb_cells[i].input_prompt_number == nbb_cell_id) {\n                        if (nbb_cells[i].get_text() == nbb_unformatted_code) {\n                             nbb_cells[i].set_text(nbb_formatted_code);\n                        }\n                        break;\n                    }\n                }\n            }, 500);\n            ",
      "text/plain": [
       "<IPython.core.display.Javascript object>"
      ]
     },
     "metadata": {},
     "output_type": "display_data"
    }
   ],
   "source": [
    "df.to_csv(output_data / npv_file, index=False)"
   ]
  },
  {
   "cell_type": "code",
   "execution_count": null,
   "metadata": {},
   "outputs": [],
   "source": []
  }
 ],
 "metadata": {
  "kernelspec": {
   "display_name": "Python 3",
   "language": "python",
   "name": "python3"
  },
  "language_info": {
   "codemirror_mode": {
    "name": "ipython",
    "version": 3
   },
   "file_extension": ".py",
   "mimetype": "text/x-python",
   "name": "python",
   "nbconvert_exporter": "python",
   "pygments_lexer": "ipython3",
   "version": "3.7.9"
  },
  "toc": {
   "base_numbering": 1,
   "nav_menu": {},
   "number_sections": true,
   "sideBar": true,
   "skip_h1_title": true,
   "title_cell": "Table of Contents",
   "title_sidebar": "Contents",
   "toc_cell": false,
   "toc_position": {},
   "toc_section_display": true,
   "toc_window_display": false
  }
 },
 "nbformat": 4,
 "nbformat_minor": 4
}
