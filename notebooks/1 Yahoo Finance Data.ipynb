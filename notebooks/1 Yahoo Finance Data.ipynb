{
 "cells": [
  {
   "cell_type": "markdown",
   "metadata": {},
   "source": [
    "# Download Yahoo Data"
   ]
  },
  {
   "cell_type": "markdown",
   "metadata": {},
   "source": [
    "## Setup"
   ]
  },
  {
   "cell_type": "code",
   "execution_count": 1,
   "metadata": {},
   "outputs": [
    {
     "data": {
      "application/javascript": "\n            setTimeout(function() {\n                var nbb_cell_id = 1;\n                var nbb_unformatted_code = \"%load_ext nb_black\";\n                var nbb_formatted_code = \"%load_ext nb_black\";\n                var nbb_cells = Jupyter.notebook.get_cells();\n                for (var i = 0; i < nbb_cells.length; ++i) {\n                    if (nbb_cells[i].input_prompt_number == nbb_cell_id) {\n                        if (nbb_cells[i].get_text() == nbb_unformatted_code) {\n                             nbb_cells[i].set_text(nbb_formatted_code);\n                        }\n                        break;\n                    }\n                }\n            }, 500);\n            ",
      "text/plain": [
       "<IPython.core.display.Javascript object>"
      ]
     },
     "metadata": {},
     "output_type": "display_data"
    }
   ],
   "source": [
    "%load_ext nb_black"
   ]
  },
  {
   "cell_type": "code",
   "execution_count": 2,
   "metadata": {},
   "outputs": [
    {
     "data": {
      "application/javascript": "\n            setTimeout(function() {\n                var nbb_cell_id = 2;\n                var nbb_unformatted_code = \"# Import libraries\\nimport pandas as pd\\nfrom investing.tools.functions import price\\nfrom investing.config.file_paths import input_data, output_data\";\n                var nbb_formatted_code = \"# Import libraries\\nimport pandas as pd\\nfrom investing.tools.functions import price\\nfrom investing.config.file_paths import input_data, output_data\";\n                var nbb_cells = Jupyter.notebook.get_cells();\n                for (var i = 0; i < nbb_cells.length; ++i) {\n                    if (nbb_cells[i].input_prompt_number == nbb_cell_id) {\n                        if (nbb_cells[i].get_text() == nbb_unformatted_code) {\n                             nbb_cells[i].set_text(nbb_formatted_code);\n                        }\n                        break;\n                    }\n                }\n            }, 500);\n            ",
      "text/plain": [
       "<IPython.core.display.Javascript object>"
      ]
     },
     "metadata": {},
     "output_type": "display_data"
    }
   ],
   "source": [
    "# Import libraries\n",
    "import pandas as pd\n",
    "from investing.tools.functions import price\n",
    "from investing.config.file_paths import input_data, output_data"
   ]
  },
  {
   "cell_type": "markdown",
   "metadata": {},
   "source": [
    "## Configure"
   ]
  },
  {
   "cell_type": "code",
   "execution_count": 3,
   "metadata": {},
   "outputs": [
    {
     "data": {
      "application/javascript": "\n            setTimeout(function() {\n                var nbb_cell_id = 3;\n                var nbb_unformatted_code = \"# File names\\ninput_file = \\\"company_names.csv\\\"\\noutput_file = \\\"prices.csv\\\"\";\n                var nbb_formatted_code = \"# File names\\ninput_file = \\\"company_names.csv\\\"\\noutput_file = \\\"prices.csv\\\"\";\n                var nbb_cells = Jupyter.notebook.get_cells();\n                for (var i = 0; i < nbb_cells.length; ++i) {\n                    if (nbb_cells[i].input_prompt_number == nbb_cell_id) {\n                        if (nbb_cells[i].get_text() == nbb_unformatted_code) {\n                             nbb_cells[i].set_text(nbb_formatted_code);\n                        }\n                        break;\n                    }\n                }\n            }, 500);\n            ",
      "text/plain": [
       "<IPython.core.display.Javascript object>"
      ]
     },
     "metadata": {},
     "output_type": "display_data"
    }
   ],
   "source": [
    "# File names\n",
    "input_file = \"company_names.csv\"\n",
    "output_file = \"prices.csv\""
   ]
  },
  {
   "cell_type": "markdown",
   "metadata": {},
   "source": [
    "## Load Data"
   ]
  },
  {
   "cell_type": "code",
   "execution_count": 4,
   "metadata": {},
   "outputs": [
    {
     "data": {
      "application/javascript": "\n            setTimeout(function() {\n                var nbb_cell_id = 4;\n                var nbb_unformatted_code = \"# Open the file\\ndf_companies = pd.read_csv(input_data / input_file)\";\n                var nbb_formatted_code = \"# Open the file\\ndf_companies = pd.read_csv(input_data / input_file)\";\n                var nbb_cells = Jupyter.notebook.get_cells();\n                for (var i = 0; i < nbb_cells.length; ++i) {\n                    if (nbb_cells[i].input_prompt_number == nbb_cell_id) {\n                        if (nbb_cells[i].get_text() == nbb_unformatted_code) {\n                             nbb_cells[i].set_text(nbb_formatted_code);\n                        }\n                        break;\n                    }\n                }\n            }, 500);\n            ",
      "text/plain": [
       "<IPython.core.display.Javascript object>"
      ]
     },
     "metadata": {},
     "output_type": "display_data"
    }
   ],
   "source": [
    "# Open the file\n",
    "df_companies = pd.read_csv(input_data / input_file)"
   ]
  },
  {
   "cell_type": "code",
   "execution_count": 5,
   "metadata": {},
   "outputs": [
    {
     "data": {
      "text/html": [
       "<div>\n",
       "<style scoped>\n",
       "    .dataframe tbody tr th:only-of-type {\n",
       "        vertical-align: middle;\n",
       "    }\n",
       "\n",
       "    .dataframe tbody tr th {\n",
       "        vertical-align: top;\n",
       "    }\n",
       "\n",
       "    .dataframe thead th {\n",
       "        text-align: right;\n",
       "    }\n",
       "</style>\n",
       "<table border=\"1\" class=\"dataframe\">\n",
       "  <thead>\n",
       "    <tr style=\"text-align: right;\">\n",
       "      <th></th>\n",
       "      <th>ticker</th>\n",
       "      <th>name</th>\n",
       "      <th>type</th>\n",
       "    </tr>\n",
       "  </thead>\n",
       "  <tbody>\n",
       "    <tr>\n",
       "      <th>0</th>\n",
       "      <td>AAL.L</td>\n",
       "      <td>AngloAmerican</td>\n",
       "      <td>Dividend</td>\n",
       "    </tr>\n",
       "    <tr>\n",
       "      <th>1</th>\n",
       "      <td>AAPL</td>\n",
       "      <td>Apple</td>\n",
       "      <td>CashFlow</td>\n",
       "    </tr>\n",
       "    <tr>\n",
       "      <th>2</th>\n",
       "      <td>ACN</td>\n",
       "      <td>Accenture</td>\n",
       "      <td>CashFlow</td>\n",
       "    </tr>\n",
       "    <tr>\n",
       "      <th>3</th>\n",
       "      <td>ALA.TO</td>\n",
       "      <td>AltaGas</td>\n",
       "      <td>Dividend</td>\n",
       "    </tr>\n",
       "    <tr>\n",
       "      <th>4</th>\n",
       "      <td>AMZN</td>\n",
       "      <td>Amazon.com</td>\n",
       "      <td>CashFlow</td>\n",
       "    </tr>\n",
       "    <tr>\n",
       "      <th>5</th>\n",
       "      <td>AQN</td>\n",
       "      <td>Algonquin</td>\n",
       "      <td>Dividend</td>\n",
       "    </tr>\n",
       "    <tr>\n",
       "      <th>6</th>\n",
       "      <td>AY</td>\n",
       "      <td>Atlantica</td>\n",
       "      <td>Dividend</td>\n",
       "    </tr>\n",
       "    <tr>\n",
       "      <th>7</th>\n",
       "      <td>BABA</td>\n",
       "      <td>Alibaba</td>\n",
       "      <td>CashFlow</td>\n",
       "    </tr>\n",
       "    <tr>\n",
       "      <th>8</th>\n",
       "      <td>BEPC</td>\n",
       "      <td>Brookfield Renewable</td>\n",
       "      <td>Dividend</td>\n",
       "    </tr>\n",
       "    <tr>\n",
       "      <th>9</th>\n",
       "      <td>BIPC</td>\n",
       "      <td>Brookfield Infrastructure</td>\n",
       "      <td>Dividend</td>\n",
       "    </tr>\n",
       "    <tr>\n",
       "      <th>10</th>\n",
       "      <td>BK</td>\n",
       "      <td>Bank of New York Mellon Corporation</td>\n",
       "      <td>Financial</td>\n",
       "    </tr>\n",
       "    <tr>\n",
       "      <th>11</th>\n",
       "      <td>BLK</td>\n",
       "      <td>BlackRock</td>\n",
       "      <td>Financial</td>\n",
       "    </tr>\n",
       "    <tr>\n",
       "      <th>12</th>\n",
       "      <td>BMO</td>\n",
       "      <td>Bank of Montreal</td>\n",
       "      <td>Financial</td>\n",
       "    </tr>\n",
       "    <tr>\n",
       "      <th>13</th>\n",
       "      <td>BNS</td>\n",
       "      <td>Bank of Nova Scotia</td>\n",
       "      <td>Financial</td>\n",
       "    </tr>\n",
       "    <tr>\n",
       "      <th>14</th>\n",
       "      <td>BP.L</td>\n",
       "      <td>BP</td>\n",
       "      <td>Dividend</td>\n",
       "    </tr>\n",
       "    <tr>\n",
       "      <th>15</th>\n",
       "      <td>BRK-B</td>\n",
       "      <td>Berkshire Hathaway</td>\n",
       "      <td>Financial</td>\n",
       "    </tr>\n",
       "    <tr>\n",
       "      <th>16</th>\n",
       "      <td>BTB-UN.TO</td>\n",
       "      <td>BTB REIT</td>\n",
       "      <td>Dividend</td>\n",
       "    </tr>\n",
       "    <tr>\n",
       "      <th>17</th>\n",
       "      <td>COST</td>\n",
       "      <td>Costco</td>\n",
       "      <td>CashFlow</td>\n",
       "    </tr>\n",
       "    <tr>\n",
       "      <th>18</th>\n",
       "      <td>CVX</td>\n",
       "      <td>Chevron</td>\n",
       "      <td>Dividend</td>\n",
       "    </tr>\n",
       "    <tr>\n",
       "      <th>19</th>\n",
       "      <td>DFS</td>\n",
       "      <td>Discover Financial Services</td>\n",
       "      <td>CashFlow</td>\n",
       "    </tr>\n",
       "    <tr>\n",
       "      <th>20</th>\n",
       "      <td>EBAY</td>\n",
       "      <td>eBay</td>\n",
       "      <td>CashFlow</td>\n",
       "    </tr>\n",
       "    <tr>\n",
       "      <th>21</th>\n",
       "      <td>ENB</td>\n",
       "      <td>Enbridge</td>\n",
       "      <td>Dividend</td>\n",
       "    </tr>\n",
       "    <tr>\n",
       "      <th>22</th>\n",
       "      <td>FTS</td>\n",
       "      <td>Fortis</td>\n",
       "      <td>Dividend</td>\n",
       "    </tr>\n",
       "    <tr>\n",
       "      <th>23</th>\n",
       "      <td>GLEN.L</td>\n",
       "      <td>Glencore</td>\n",
       "      <td>Dividend</td>\n",
       "    </tr>\n",
       "    <tr>\n",
       "      <th>24</th>\n",
       "      <td>GMRE</td>\n",
       "      <td>Global Medical REIT</td>\n",
       "      <td>Dividend</td>\n",
       "    </tr>\n",
       "    <tr>\n",
       "      <th>25</th>\n",
       "      <td>GOOG</td>\n",
       "      <td>Alphabet</td>\n",
       "      <td>CashFlow</td>\n",
       "    </tr>\n",
       "    <tr>\n",
       "      <th>26</th>\n",
       "      <td>IAG.L</td>\n",
       "      <td>International Consolidated Airlines Group</td>\n",
       "      <td>CashFlow</td>\n",
       "    </tr>\n",
       "    <tr>\n",
       "      <th>27</th>\n",
       "      <td>JPM</td>\n",
       "      <td>JPMorgan</td>\n",
       "      <td>Financial</td>\n",
       "    </tr>\n",
       "    <tr>\n",
       "      <th>28</th>\n",
       "      <td>MA</td>\n",
       "      <td>Mastercard</td>\n",
       "      <td>CashFlow</td>\n",
       "    </tr>\n",
       "    <tr>\n",
       "      <th>29</th>\n",
       "      <td>MELI</td>\n",
       "      <td>MercadoLibre</td>\n",
       "      <td>CashFlow</td>\n",
       "    </tr>\n",
       "    <tr>\n",
       "      <th>30</th>\n",
       "      <td>MFC</td>\n",
       "      <td>Manulife</td>\n",
       "      <td>Financial</td>\n",
       "    </tr>\n",
       "    <tr>\n",
       "      <th>31</th>\n",
       "      <td>MKL</td>\n",
       "      <td>Markel</td>\n",
       "      <td>Financial</td>\n",
       "    </tr>\n",
       "    <tr>\n",
       "      <th>32</th>\n",
       "      <td>MSFT</td>\n",
       "      <td>Microsoft</td>\n",
       "      <td>CashFlow</td>\n",
       "    </tr>\n",
       "    <tr>\n",
       "      <th>33</th>\n",
       "      <td>NFI.TO</td>\n",
       "      <td>NFI Group</td>\n",
       "      <td>CashFlow</td>\n",
       "    </tr>\n",
       "    <tr>\n",
       "      <th>34</th>\n",
       "      <td>NXPI</td>\n",
       "      <td>NXP Semiconductors</td>\n",
       "      <td>CashFlow</td>\n",
       "    </tr>\n",
       "    <tr>\n",
       "      <th>35</th>\n",
       "      <td>PYPL</td>\n",
       "      <td>PayPal</td>\n",
       "      <td>CashFlow</td>\n",
       "    </tr>\n",
       "    <tr>\n",
       "      <th>36</th>\n",
       "      <td>RIO</td>\n",
       "      <td>Rio Tinto</td>\n",
       "      <td>Dividend</td>\n",
       "    </tr>\n",
       "    <tr>\n",
       "      <th>37</th>\n",
       "      <td>SAP</td>\n",
       "      <td>Saputo</td>\n",
       "      <td>CashFlow</td>\n",
       "    </tr>\n",
       "    <tr>\n",
       "      <th>38</th>\n",
       "      <td>SHEL</td>\n",
       "      <td>Shell</td>\n",
       "      <td>Dividend</td>\n",
       "    </tr>\n",
       "    <tr>\n",
       "      <th>39</th>\n",
       "      <td>SLF</td>\n",
       "      <td>SunLife</td>\n",
       "      <td>Financial</td>\n",
       "    </tr>\n",
       "    <tr>\n",
       "      <th>40</th>\n",
       "      <td>T</td>\n",
       "      <td>AT&amp;T</td>\n",
       "      <td>Dividend</td>\n",
       "    </tr>\n",
       "    <tr>\n",
       "      <th>41</th>\n",
       "      <td>TDG</td>\n",
       "      <td>TransDigm</td>\n",
       "      <td>CashFlow</td>\n",
       "    </tr>\n",
       "    <tr>\n",
       "      <th>42</th>\n",
       "      <td>TRP</td>\n",
       "      <td>TC Energy</td>\n",
       "      <td>Dividend</td>\n",
       "    </tr>\n",
       "    <tr>\n",
       "      <th>43</th>\n",
       "      <td>TU</td>\n",
       "      <td>TELUS</td>\n",
       "      <td>Dividend</td>\n",
       "    </tr>\n",
       "    <tr>\n",
       "      <th>44</th>\n",
       "      <td>V</td>\n",
       "      <td>Visa</td>\n",
       "      <td>CashFlow</td>\n",
       "    </tr>\n",
       "    <tr>\n",
       "      <th>45</th>\n",
       "      <td>XOM</td>\n",
       "      <td>Exxon Mobil</td>\n",
       "      <td>Dividend</td>\n",
       "    </tr>\n",
       "  </tbody>\n",
       "</table>\n",
       "</div>"
      ],
      "text/plain": [
       "       ticker                                       name       type\n",
       "0       AAL.L                              AngloAmerican   Dividend\n",
       "1        AAPL                                      Apple   CashFlow\n",
       "2         ACN                                  Accenture   CashFlow\n",
       "3      ALA.TO                                    AltaGas   Dividend\n",
       "4        AMZN                                 Amazon.com   CashFlow\n",
       "5         AQN                                  Algonquin   Dividend\n",
       "6          AY                                  Atlantica   Dividend\n",
       "7        BABA                                    Alibaba   CashFlow\n",
       "8        BEPC                       Brookfield Renewable   Dividend\n",
       "9        BIPC                  Brookfield Infrastructure   Dividend\n",
       "10         BK        Bank of New York Mellon Corporation  Financial\n",
       "11        BLK                                  BlackRock  Financial\n",
       "12        BMO                           Bank of Montreal  Financial\n",
       "13        BNS                        Bank of Nova Scotia  Financial\n",
       "14       BP.L                                         BP   Dividend\n",
       "15      BRK-B                         Berkshire Hathaway  Financial\n",
       "16  BTB-UN.TO                                   BTB REIT   Dividend\n",
       "17       COST                                     Costco   CashFlow\n",
       "18        CVX                                    Chevron   Dividend\n",
       "19        DFS                Discover Financial Services   CashFlow\n",
       "20       EBAY                                       eBay   CashFlow\n",
       "21        ENB                                   Enbridge   Dividend\n",
       "22        FTS                                     Fortis   Dividend\n",
       "23     GLEN.L                                   Glencore   Dividend\n",
       "24       GMRE                        Global Medical REIT   Dividend\n",
       "25       GOOG                                   Alphabet   CashFlow\n",
       "26      IAG.L  International Consolidated Airlines Group   CashFlow\n",
       "27        JPM                                   JPMorgan  Financial\n",
       "28         MA                                 Mastercard   CashFlow\n",
       "29       MELI                               MercadoLibre   CashFlow\n",
       "30        MFC                                   Manulife  Financial\n",
       "31        MKL                                     Markel  Financial\n",
       "32       MSFT                                  Microsoft   CashFlow\n",
       "33     NFI.TO                                  NFI Group   CashFlow\n",
       "34       NXPI                         NXP Semiconductors   CashFlow\n",
       "35       PYPL                                     PayPal   CashFlow\n",
       "36        RIO                                  Rio Tinto   Dividend\n",
       "37        SAP                                     Saputo   CashFlow\n",
       "38       SHEL                                      Shell   Dividend\n",
       "39        SLF                                    SunLife  Financial\n",
       "40          T                                       AT&T   Dividend\n",
       "41        TDG                                  TransDigm   CashFlow\n",
       "42        TRP                                  TC Energy   Dividend\n",
       "43         TU                                      TELUS   Dividend\n",
       "44          V                                       Visa   CashFlow\n",
       "45        XOM                                Exxon Mobil   Dividend"
      ]
     },
     "execution_count": 5,
     "metadata": {},
     "output_type": "execute_result"
    },
    {
     "data": {
      "application/javascript": "\n            setTimeout(function() {\n                var nbb_cell_id = 5;\n                var nbb_unformatted_code = \"# Display data\\ndf_companies\";\n                var nbb_formatted_code = \"# Display data\\ndf_companies\";\n                var nbb_cells = Jupyter.notebook.get_cells();\n                for (var i = 0; i < nbb_cells.length; ++i) {\n                    if (nbb_cells[i].input_prompt_number == nbb_cell_id) {\n                        if (nbb_cells[i].get_text() == nbb_unformatted_code) {\n                             nbb_cells[i].set_text(nbb_formatted_code);\n                        }\n                        break;\n                    }\n                }\n            }, 500);\n            ",
      "text/plain": [
       "<IPython.core.display.Javascript object>"
      ]
     },
     "metadata": {},
     "output_type": "display_data"
    }
   ],
   "source": [
    "# Display data\n",
    "df_companies"
   ]
  },
  {
   "cell_type": "markdown",
   "metadata": {},
   "source": [
    "## Execute and Save"
   ]
  },
  {
   "cell_type": "code",
   "execution_count": 6,
   "metadata": {},
   "outputs": [
    {
     "data": {
      "application/javascript": "\n            setTimeout(function() {\n                var nbb_cell_id = 6;\n                var nbb_unformatted_code = \"df_companies[\\\"price\\\"] = df_companies[\\\"ticker\\\"].apply(price)\";\n                var nbb_formatted_code = \"df_companies[\\\"price\\\"] = df_companies[\\\"ticker\\\"].apply(price)\";\n                var nbb_cells = Jupyter.notebook.get_cells();\n                for (var i = 0; i < nbb_cells.length; ++i) {\n                    if (nbb_cells[i].input_prompt_number == nbb_cell_id) {\n                        if (nbb_cells[i].get_text() == nbb_unformatted_code) {\n                             nbb_cells[i].set_text(nbb_formatted_code);\n                        }\n                        break;\n                    }\n                }\n            }, 500);\n            ",
      "text/plain": [
       "<IPython.core.display.Javascript object>"
      ]
     },
     "metadata": {},
     "output_type": "display_data"
    }
   ],
   "source": [
    "df_companies[\"price\"] = df_companies[\"ticker\"].apply(price)"
   ]
  },
  {
   "cell_type": "code",
   "execution_count": 7,
   "metadata": {},
   "outputs": [
    {
     "data": {
      "application/javascript": "\n            setTimeout(function() {\n                var nbb_cell_id = 7;\n                var nbb_unformatted_code = \"# Write back df to csv\\ndf_companies.to_csv(output_data / output_file, index=False)\";\n                var nbb_formatted_code = \"# Write back df to csv\\ndf_companies.to_csv(output_data / output_file, index=False)\";\n                var nbb_cells = Jupyter.notebook.get_cells();\n                for (var i = 0; i < nbb_cells.length; ++i) {\n                    if (nbb_cells[i].input_prompt_number == nbb_cell_id) {\n                        if (nbb_cells[i].get_text() == nbb_unformatted_code) {\n                             nbb_cells[i].set_text(nbb_formatted_code);\n                        }\n                        break;\n                    }\n                }\n            }, 500);\n            ",
      "text/plain": [
       "<IPython.core.display.Javascript object>"
      ]
     },
     "metadata": {},
     "output_type": "display_data"
    }
   ],
   "source": [
    "# Write back df to csv\n",
    "df_companies.to_csv(output_data / output_file, index=False)"
   ]
  }
 ],
 "metadata": {
  "kernelspec": {
   "display_name": "Python 3",
   "language": "python",
   "name": "python3"
  },
  "language_info": {
   "codemirror_mode": {
    "name": "ipython",
    "version": 3
   },
   "file_extension": ".py",
   "mimetype": "text/x-python",
   "name": "python",
   "nbconvert_exporter": "python",
   "pygments_lexer": "ipython3",
   "version": "3.7.9"
  },
  "toc": {
   "base_numbering": 1,
   "nav_menu": {},
   "number_sections": true,
   "sideBar": true,
   "skip_h1_title": true,
   "title_cell": "Table of Contents",
   "title_sidebar": "Contents",
   "toc_cell": false,
   "toc_position": {},
   "toc_section_display": true,
   "toc_window_display": false
  }
 },
 "nbformat": 4,
 "nbformat_minor": 4
}
